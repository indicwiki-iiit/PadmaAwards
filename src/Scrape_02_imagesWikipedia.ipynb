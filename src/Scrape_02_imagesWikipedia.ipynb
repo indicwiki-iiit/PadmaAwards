{
 "cells": [
  {
   "cell_type": "code",
   "execution_count": 3,
   "metadata": {},
   "outputs": [],
   "source": [
    "import pandas as pd\n",
    "import numpy as np\n",
    "from tqdm import tqdm \n",
    "from urllib.request import urlopen\n",
    "from bs4 import BeautifulSoup\n",
    "import re\n",
    "\n",
    "# html = urlopen('https://en.wikipedia.org/wiki/Jnanendra_Nath_Mukherjee')\n",
    "# bs = BeautifulSoup(html, 'html.parser')\n",
    "# images = bs.find_all('img', {'src':re.compile('.jpg')})\n",
    "# for image in images: \n",
    "#     print(image['src'])"
   ]
  },
  {
   "cell_type": "code",
   "execution_count": 13,
   "metadata": {},
   "outputs": [],
   "source": [
    "def get_img(URL):\n",
    "    if URL != None:\n",
    "        try:\n",
    "            if not pd.isna(URL):\n",
    "                html = urlopen(URL)\n",
    "                bs = BeautifulSoup(html, 'html.parser')\n",
    "                images = bs.find_all('img', {'src':re.compile('.jpg')})\n",
    "                if len(images) != 0:\n",
    "                    for image in images: \n",
    "                        # print(str(image['src']).split('/')[-1])\n",
    "                        return str(image['src']).split('/')[-1].split('-')[-1]\n",
    "                else:\n",
    "                    images = bs.find_all('img', {'src':re.compile('.jpeg')})\n",
    "                    if len(images) != 0:\n",
    "                        for image in images: \n",
    "                            # print(str(image['src']).split('/')[-1])\n",
    "                            return str(image['src']).split('/')[-1].split('-')[-1]\n",
    "                    return np.nan\n",
    "            return np.nan\n",
    "        except Exception as e:\n",
    "            print(e)\n",
    "        finally:\n",
    "            return np.nan\n",
    "    return np.nan"
   ]
  },
  {
   "cell_type": "code",
   "execution_count": 14,
   "metadata": {},
   "outputs": [
    {
     "name": "stderr",
     "output_type": "stream",
     "text": [
      "  0%|          | 0/4449 [00:00<?, ?it/s]C:\\Users\\LEGION\\AppData\\Local\\Temp\\ipykernel_15928\\2523376365.py:10: SettingWithCopyWarning: \n",
      "A value is trying to be set on a copy of a slice from a DataFrame\n",
      "\n",
      "See the caveats in the documentation: https://pandas.pydata.org/pandas-docs/stable/user_guide/indexing.html#returning-a-view-versus-a-copy\n",
      "  awards['image'][i] = get_img(k)\n",
      "  0%|          | 2/4449 [00:01<38:53,  1.91it/s]C:\\Users\\LEGION\\AppData\\Local\\Temp\\ipykernel_15928\\2523376365.py:8: SettingWithCopyWarning: \n",
      "A value is trying to be set on a copy of a slice from a DataFrame\n",
      "\n",
      "See the caveats in the documentation: https://pandas.pydata.org/pandas-docs/stable/user_guide/indexing.html#returning-a-view-versus-a-copy\n",
      "  awards['image'][i] = np.nan\n",
      "  1%|          | 34/4449 [00:32<42:13,  1.74it/s]  "
     ]
    },
    {
     "name": "stdout",
     "output_type": "stream",
     "text": [
      "HTTP Error 404: Not Found\n"
     ]
    },
    {
     "name": "stderr",
     "output_type": "stream",
     "text": [
      "  3%|▎         | 131/4449 [02:34<1:32:53,  1.29s/it]"
     ]
    },
    {
     "name": "stdout",
     "output_type": "stream",
     "text": [
      "HTTP Error 404: Not Found\n"
     ]
    },
    {
     "name": "stderr",
     "output_type": "stream",
     "text": [
      " 19%|█▉        | 865/4449 [15:21<1:10:45,  1.18s/it]"
     ]
    },
    {
     "name": "stdout",
     "output_type": "stream",
     "text": [
      "HTTP Error 404: Not Found\n"
     ]
    },
    {
     "name": "stderr",
     "output_type": "stream",
     "text": [
      " 26%|██▌       | 1154/4449 [20:46<45:23,  1.21it/s]  "
     ]
    },
    {
     "name": "stdout",
     "output_type": "stream",
     "text": [
      "HTTP Error 404: Not Found\n"
     ]
    },
    {
     "name": "stderr",
     "output_type": "stream",
     "text": [
      " 29%|██▉       | 1308/4449 [23:08<1:22:28,  1.58s/it]"
     ]
    },
    {
     "name": "stdout",
     "output_type": "stream",
     "text": [
      "HTTP Error 404: Not Found\n"
     ]
    },
    {
     "name": "stderr",
     "output_type": "stream",
     "text": [
      " 31%|███       | 1372/4449 [24:20<1:17:52,  1.52s/it]"
     ]
    },
    {
     "name": "stdout",
     "output_type": "stream",
     "text": [
      "HTTP Error 404: Not Found\n"
     ]
    },
    {
     "name": "stderr",
     "output_type": "stream",
     "text": [
      " 33%|███▎      | 1447/4449 [25:28<30:18,  1.65it/s]  "
     ]
    },
    {
     "name": "stdout",
     "output_type": "stream",
     "text": [
      "HTTP Error 404: Not Found\n"
     ]
    },
    {
     "name": "stderr",
     "output_type": "stream",
     "text": [
      " 33%|███▎      | 1482/4449 [26:09<45:19,  1.09it/s]  "
     ]
    },
    {
     "name": "stdout",
     "output_type": "stream",
     "text": [
      "HTTP Error 404: Not Found\n"
     ]
    },
    {
     "name": "stderr",
     "output_type": "stream",
     "text": [
      " 36%|███▌      | 1587/4449 [28:09<34:33,  1.38it/s]  "
     ]
    },
    {
     "name": "stdout",
     "output_type": "stream",
     "text": [
      "HTTP Error 404: Not Found\n"
     ]
    },
    {
     "name": "stderr",
     "output_type": "stream",
     "text": [
      " 50%|█████     | 2226/4449 [40:01<1:00:04,  1.62s/it]"
     ]
    }
   ],
   "source": [
    "awards = pd.read_csv('renders/renders_awards_v1_03_01_awards_Kaggle_out.csv')\n",
    "awards['image'] = np.nan\n",
    "awards.reset_index(inplace=True)\n",
    "for i in tqdm(range(awards.shape[0])):\n",
    "    k = awards['WikiLink'][i]\n",
    "    # print(k)\n",
    "    if pd.isna(k):\n",
    "        awards['image'][i] = np.nan\n",
    "    else:\n",
    "        awards['image'][i] = get_img(k)\n"
   ]
  },
  {
   "cell_type": "code",
   "execution_count": null,
   "metadata": {},
   "outputs": [],
   "source": [
    "def out(ver,data):\n",
    "    data.to_csv('renders/awards_v4_'+ver+'.csv')\n",
    "    data.to_pickle('renders/awards_v4_'+ver+'.pickle')\n",
    "    data.to_excel('renders/awards_v4_'+ver+'.xlsx')\n",
    "out('01_images',awards)"
   ]
  },
  {
   "cell_type": "code",
   "execution_count": null,
   "metadata": {},
   "outputs": [],
   "source": []
  }
 ],
 "metadata": {
  "kernelspec": {
   "display_name": "AkWiki",
   "language": "python",
   "name": "indicwiki"
  },
  "language_info": {
   "codemirror_mode": {
    "name": "ipython",
    "version": 3
   },
   "file_extension": ".py",
   "mimetype": "text/x-python",
   "name": "python",
   "nbconvert_exporter": "python",
   "pygments_lexer": "ipython3",
   "version": "3.9.12"
  },
  "orig_nbformat": 4
 },
 "nbformat": 4,
 "nbformat_minor": 2
}
