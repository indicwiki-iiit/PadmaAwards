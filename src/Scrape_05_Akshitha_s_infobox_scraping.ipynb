{
 "cells": [
  {
   "cell_type": "code",
   "execution_count": 8,
   "id": "43b036ee",
   "metadata": {},
   "outputs": [
    {
     "name": "stdout",
     "output_type": "stream",
     "text": [
      "Born<span style=\"display:none\">(<span class=\"bday\">1934-08-24</span>)</span>\n",
      "\n"
     ]
    }
   ],
   "source": [
    "# import requests\n",
    "# import bs4\n",
    "\n",
    "# URL = \"https://en.wikipedia.org/wiki/A._Sivasailam\"\n",
    "\n",
    "# response = requests.get(URL)\n",
    "# soup = bs4.BeautifulSoup(response.text, 'html')\n",
    "# infobox_label = soup.find('th',{'class':'infobox-label'})\n",
    "# infobox_data=soup.find('td',{'class':'infobox-data'})\n",
    "# for i,j in zip(infobox_label,infobox_data):\n",
    "#     print(i,end=\"\")\n",
    "#     print(j)\n",
    "#     print()"
   ]
  },
  {
   "cell_type": "code",
   "execution_count": 3,
   "id": "b6d3731a",
   "metadata": {},
   "outputs": [
    {
     "name": "stdout",
     "output_type": "stream",
     "text": [
      "Collecting lxml\n",
      "  Using cached lxml-4.8.0-cp39-cp39-win_amd64.whl (3.6 MB)\n",
      "Installing collected packages: lxml\n",
      "Successfully installed lxml-4.8.0\n",
      "Note: you may need to restart the kernel to use updated packages.\n"
     ]
    }
   ],
   "source": [
    "pip install lxml"
   ]
  },
  {
   "cell_type": "code",
   "execution_count": 12,
   "id": "a32b7a56",
   "metadata": {},
   "outputs": [
    {
     "ename": "SyntaxError",
     "evalue": "invalid syntax (191905759.py, line 5)",
     "output_type": "error",
     "traceback": [
      "\u001b[1;36m  Input \u001b[1;32mIn [12]\u001b[1;36m\u001b[0m\n\u001b[1;33m    output=store.xpath(''//table[@class=\"infobox biography vcard\"]/tr[th/text()=\"Born\"]/td/i')\u001b[0m\n\u001b[1;37m                                 ^\u001b[0m\n\u001b[1;31mSyntaxError\u001b[0m\u001b[1;31m:\u001b[0m invalid syntax\n"
     ]
    }
   ],
   "source": [
    "# import requests\n",
    "# from lxml import etree\n",
    "# url='https://en.wikipedia.org/wiki/A._Sivasailam'\n",
    "# store=etree.formatting(req.text)\n",
    "# output=store.xpath(''//table[@class=\"infobox biography vcard\"]/tr[th/text()=\"Born\"]/td/i')\n",
    "# print(output[0].text)                   "
   ]
  },
  {
   "cell_type": "code",
   "execution_count": 19,
   "id": "9260d141",
   "metadata": {},
   "outputs": [
    {
     "data": {
      "text/plain": [
       "'1.4.2'"
      ]
     },
     "execution_count": 19,
     "metadata": {},
     "output_type": "execute_result"
    }
   ],
   "source": [
    "# pd.__version__"
   ]
  },
  {
   "cell_type": "code",
   "execution_count": 4,
   "id": "8eb11c59",
   "metadata": {},
   "outputs": [
    {
     "name": "stdout",
     "output_type": "stream",
     "text": [
      "Extracted 1 infoboxes\n"
     ]
    },
    {
     "data": {
      "text/html": [
       "<div>\n",
       "<style scoped>\n",
       "    .dataframe tbody tr th:only-of-type {\n",
       "        vertical-align: middle;\n",
       "    }\n",
       "\n",
       "    .dataframe tbody tr th {\n",
       "        vertical-align: top;\n",
       "    }\n",
       "\n",
       "    .dataframe thead th {\n",
       "        text-align: right;\n",
       "    }\n",
       "</style>\n",
       "<table border=\"1\" class=\"dataframe\">\n",
       "  <thead>\n",
       "    <tr style=\"text-align: right;\">\n",
       "      <th></th>\n",
       "      <th>A. Sivasailam.1</th>\n",
       "    </tr>\n",
       "    <tr>\n",
       "      <th>A. Sivasailam</th>\n",
       "      <th></th>\n",
       "    </tr>\n",
       "  </thead>\n",
       "  <tbody>\n",
       "    <tr>\n",
       "      <th>The President, Dr. A.P.J. Abdul Kalam presenting Padma Shri to Shri Anantharamakrishnan Sivasailam, at an Investiture-II Ceremony at Rashtrapati Bhavan in New Delhi on 5 April 2007</th>\n",
       "      <td>The President, Dr. A.P.J. Abdul Kalam presenti...</td>\n",
       "    </tr>\n",
       "    <tr>\n",
       "      <th>Born</th>\n",
       "      <td>24 August 1934Alwarkurichi, Tirunelveli distri...</td>\n",
       "    </tr>\n",
       "    <tr>\n",
       "      <th>Died</th>\n",
       "      <td>11 January 2011 (aged 76)Kasturba Hospital, Ma...</td>\n",
       "    </tr>\n",
       "    <tr>\n",
       "      <th>Alma mater</th>\n",
       "      <td>Loyola College, Chennai</td>\n",
       "    </tr>\n",
       "    <tr>\n",
       "      <th>Occupation</th>\n",
       "      <td>IndustrialistEducationistPhilanthropist</td>\n",
       "    </tr>\n",
       "    <tr>\n",
       "      <th>Years active</th>\n",
       "      <td>1957–2011</td>\n",
       "    </tr>\n",
       "    <tr>\n",
       "      <th>Known for</th>\n",
       "      <td>Amalgamations Group</td>\n",
       "    </tr>\n",
       "    <tr>\n",
       "      <th>Spouse(s)</th>\n",
       "      <td>Indira Sivasailam</td>\n",
       "    </tr>\n",
       "    <tr>\n",
       "      <th>Children</th>\n",
       "      <td>Mallika SrinivasanJayashree Venkatraman</td>\n",
       "    </tr>\n",
       "    <tr>\n",
       "      <th>Parent(s)</th>\n",
       "      <td>S. Anantharamakrishnan (father)</td>\n",
       "    </tr>\n",
       "    <tr>\n",
       "      <th>Awards</th>\n",
       "      <td>Padma ShriNIQA Outstanding Industrialist Award...</td>\n",
       "    </tr>\n",
       "    <tr>\n",
       "      <th>Website</th>\n",
       "      <td>Website of Amalgamations Group</td>\n",
       "    </tr>\n",
       "  </tbody>\n",
       "</table>\n",
       "</div>"
      ],
      "text/plain": [
       "                                                                                      A. Sivasailam.1\n",
       "A. Sivasailam                                                                                        \n",
       "The President, Dr. A.P.J. Abdul Kalam presentin...  The President, Dr. A.P.J. Abdul Kalam presenti...\n",
       "Born                                                24 August 1934Alwarkurichi, Tirunelveli distri...\n",
       "Died                                                11 January 2011 (aged 76)Kasturba Hospital, Ma...\n",
       "Alma mater                                                                    Loyola College, Chennai\n",
       "Occupation                                                    IndustrialistEducationistPhilanthropist\n",
       "Years active                                                                                1957–2011\n",
       "Known for                                                                         Amalgamations Group\n",
       "Spouse(s)                                                                           Indira Sivasailam\n",
       "Children                                                      Mallika SrinivasanJayashree Venkatraman\n",
       "Parent(s)                                                             S. Anantharamakrishnan (father)\n",
       "Awards                                              Padma ShriNIQA Outstanding Industrialist Award...\n",
       "Website                                                                Website of Amalgamations Group"
      ]
     },
     "execution_count": 4,
     "metadata": {},
     "output_type": "execute_result"
    }
   ],
   "source": [
    "# from pandas.io.html import read_html\n",
    "# page = 'https://en.wikipedia.org/wiki/A._Sivasailam'\n",
    "# infoboxes = read_html(page, index_col=0, attrs={\"class\":\"infobox\"})\n",
    "\n",
    "# infoboxes[0]"
   ]
  },
  {
   "cell_type": "code",
   "execution_count": 1,
   "id": "c2efdc56",
   "metadata": {},
   "outputs": [],
   "source": [
    "import pandas as pd \n",
    "import requests\n",
    "from bs4 import BeautifulSoup \n"
   ]
  },
  {
   "cell_type": "code",
   "execution_count": 19,
   "id": "d45f6fee",
   "metadata": {},
   "outputs": [
    {
     "name": "stdout",
     "output_type": "stream",
     "text": [
      "Collecting openpyxl\n",
      "  Downloading openpyxl-3.0.9-py2.py3-none-any.whl (242 kB)\n",
      "Collecting et-xmlfile\n",
      "  Downloading et_xmlfile-1.1.0-py3-none-any.whl (4.7 kB)\n",
      "Installing collected packages: et-xmlfile, openpyxl\n",
      "Successfully installed et-xmlfile-1.1.0 openpyxl-3.0.9\n",
      "Note: you may need to restart the kernel to use updated packages.\n"
     ]
    }
   ],
   "source": [
    "pip install openpyxl"
   ]
  },
  {
   "cell_type": "code",
   "execution_count": 2,
   "id": "929b9d88",
   "metadata": {},
   "outputs": [
    {
     "name": "stdout",
     "output_type": "stream",
     "text": [
      "200\n"
     ]
    }
   ],
   "source": [
    "wikiurl=\"https://en.wikipedia.org/wiki/A._Sivasailam\"\n",
    "table_class=\"wikitable sortable jquery-tablesorter\"\n",
    "response=requests.get(wikiurl)\n",
    "print(response.status_code)"
   ]
  },
  {
   "cell_type": "code",
   "execution_count": 15,
   "id": "d1797247",
   "metadata": {},
   "outputs": [
    {
     "name": "stdout",
     "output_type": "stream",
     "text": [
      "<table class=\"infobox biography vcard\"><tbody><tr><th class=\"infobox-above\" colspan=\"2\" style=\"font-size:125%;\"><div class=\"fn\" style=\"display:inline\">A. Sivasailam</div></th></tr><tr><td class=\"infobox-image\" colspan=\"2\"><a class=\"image\" href=\"/wiki/File:The_President,_Dr._A.P.J._Abdul_Kalam_presenting_Padma_Shri_to_Shri_Anantharamakrishnan_Sivasailam,_at_an_Investiture-II_Ceremony_at_Rashtrapati_Bhavan_in_New_Delhi_on_April_05,_2007.jpg\"><img alt=\"The President, Dr. A.P.J. Abdul Kalam presenting Padma Shri to Shri Anantharamakrishnan Sivasailam, at an Investiture-II Ceremony at Rashtrapati Bhavan in New Delhi on April 05, 2007.jpg\" data-file-height=\"2660\" data-file-width=\"2200\" decoding=\"async\" height=\"266\" src=\"//upload.wikimedia.org/wikipedia/commons/thumb/7/7e/The_President%2C_Dr._A.P.J._Abdul_Kalam_presenting_Padma_Shri_to_Shri_Anantharamakrishnan_Sivasailam%2C_at_an_Investiture-II_Ceremony_at_Rashtrapati_Bhavan_in_New_Delhi_on_April_05%2C_2007.jpg/220px-thumbnail.jpg\" srcset=\"//upload.wikimedia.org/wikipedia/commons/thumb/7/7e/The_President%2C_Dr._A.P.J._Abdul_Kalam_presenting_Padma_Shri_to_Shri_Anantharamakrishnan_Sivasailam%2C_at_an_Investiture-II_Ceremony_at_Rashtrapati_Bhavan_in_New_Delhi_on_April_05%2C_2007.jpg/330px-thumbnail.jpg 1.5x, //upload.wikimedia.org/wikipedia/commons/thumb/7/7e/The_President%2C_Dr._A.P.J._Abdul_Kalam_presenting_Padma_Shri_to_Shri_Anantharamakrishnan_Sivasailam%2C_at_an_Investiture-II_Ceremony_at_Rashtrapati_Bhavan_in_New_Delhi_on_April_05%2C_2007.jpg/440px-thumbnail.jpg 2x\" width=\"220\"/></a><div class=\"infobox-caption\">The President, Dr. A.P.J. Abdul Kalam presenting Padma Shri to Shri Anantharamakrishnan Sivasailam, at an Investiture-II Ceremony at Rashtrapati Bhavan in New Delhi on 5 April 2007</div></td></tr><tr><th class=\"infobox-label\" scope=\"row\">Born</th><td class=\"infobox-data\"><span style=\"display:none\">(<span class=\"bday\">1934-08-24</span>)</span>24 August 1934<br/><div class=\"birthplace\" style=\"display:inline\"><a href=\"/wiki/Alwarkurichi\" title=\"Alwarkurichi\">Alwarkurichi</a>, <a href=\"/wiki/Tirunelveli_district\" title=\"Tirunelveli district\">Tirunelveli district</a>, <a href=\"/wiki/Madras_Presidency\" title=\"Madras Presidency\">Madras Presidency</a>, <a class=\"mw-redirect\" href=\"/wiki/British_India\" title=\"British India\">British India</a></div></td></tr><tr><th class=\"infobox-label\" scope=\"row\">Died</th><td class=\"infobox-data\">11 January 2011<span style=\"display:none\">(2011-01-11)</span> (aged 76)<br/><div class=\"deathplace\" style=\"display:inline\"><a class=\"mw-redirect\" href=\"/wiki/Kasturba_Hospital\" title=\"Kasturba Hospital\">Kasturba Hospital</a>, <a href=\"/wiki/Manipal\" title=\"Manipal\">Manipal</a>, <a href=\"/wiki/Karnataka\" title=\"Karnataka\">Karnataka</a>, India</div></td></tr><tr><th class=\"infobox-label\" scope=\"row\">Alma mater</th><td class=\"infobox-data\"><a href=\"/wiki/Loyola_College,_Chennai\" title=\"Loyola College, Chennai\">Loyola College, Chennai</a></td></tr><tr><th class=\"infobox-label\" scope=\"row\">Occupation</th><td class=\"infobox-data role\"><a class=\"mw-redirect\" href=\"/wiki/Industrialist\" title=\"Industrialist\">Industrialist</a><br/><a class=\"mw-redirect\" href=\"/wiki/Educationist\" title=\"Educationist\">Educationist</a><br/><a class=\"mw-redirect\" href=\"/wiki/Philanthropist\" title=\"Philanthropist\">Philanthropist</a></td></tr><tr><th class=\"infobox-label\" scope=\"row\">Years active</th><td class=\"infobox-data\">1957–2011</td></tr><tr><th class=\"infobox-label\" scope=\"row\">Known for</th><td class=\"infobox-data\"><a href=\"/wiki/Amalgamations_Group\" title=\"Amalgamations Group\">Amalgamations Group</a></td></tr><tr><th class=\"infobox-label\" scope=\"row\"><span class=\"nowrap\">Spouse(s)</span></th><td class=\"infobox-data\">Indira Sivasailam</td></tr><tr><th class=\"infobox-label\" scope=\"row\">Children</th><td class=\"infobox-data\"><a href=\"/wiki/Mallika_Srinivasan\" title=\"Mallika Srinivasan\">Mallika Srinivasan</a><br/>Jayashree Venkatraman</td></tr><tr><th class=\"infobox-label\" scope=\"row\">Parent(s)</th><td class=\"infobox-data\"><a href=\"/wiki/S._Anantharamakrishnan\" title=\"S. Anantharamakrishnan\">S. Anantharamakrishnan</a> (father)</td></tr><tr><th class=\"infobox-label\" scope=\"row\">Awards</th><td class=\"infobox-data\"><a href=\"/wiki/Padma_Shri\" title=\"Padma Shri\">Padma Shri</a><br/>NIQA Outstanding Industrialist Award<br/><a class=\"new\" href=\"/w/index.php?title=SAE_India&amp;action=edit&amp;redlink=1\" title=\"SAE India (page does not exist)\">SAE India</a> Lifetime Achievement Award<br/><a class=\"mw-redirect\" href=\"/wiki/Society_of_Indian_Automobile_Manufacturers\" title=\"Society of Indian Automobile Manufacturers\">SIAM</a> Lifetime Achievement Award<br/><a href=\"/wiki/All_India_Management_Association\" title=\"All India Management Association\">AIMA</a> Distinguished Service Award<br/><a href=\"/wiki/Automotive_Component_Manufacturers_Association_of_India\" title=\"Automotive Component Manufacturers Association of India\">ACMAI</a> Golden Jubilee Lifetime Contribution Award</td></tr><tr><th class=\"infobox-label\" scope=\"row\">Website</th><td class=\"infobox-data\"><span class=\"url\"><a class=\"external text\" href=\"http://amalgamationsgroup.co.in/\" rel=\"nofollow\">Website of Amalgamations Group</a></span></td></tr></tbody></table>\n"
     ]
    }
   ],
   "source": [
    "soup = BeautifulSoup(response.text, 'html.parser')\n",
    "table=soup.find('table',{'class':\"infobox biography vcard\"})\n",
    "print(table)"
   ]
  },
  {
   "cell_type": "code",
   "execution_count": null,
   "id": "d0bcdb60",
   "metadata": {},
   "outputs": [],
   "source": []
  },
  {
   "cell_type": "code",
   "execution_count": 18,
   "id": "e5fe5be4",
   "metadata": {},
   "outputs": [
    {
     "name": "stdout",
     "output_type": "stream",
     "text": [
      "[                                        A. Sivasailam  \\\n",
      "0   The President, Dr. A.P.J. Abdul Kalam presenti...   \n",
      "1                                                Born   \n",
      "2                                                Died   \n",
      "3                                          Alma mater   \n",
      "4                                          Occupation   \n",
      "5                                        Years active   \n",
      "6                                           Known for   \n",
      "7                                           Spouse(s)   \n",
      "8                                            Children   \n",
      "9                                           Parent(s)   \n",
      "10                                             Awards   \n",
      "11                                            Website   \n",
      "\n",
      "                                      A. Sivasailam.1  \n",
      "0   The President, Dr. A.P.J. Abdul Kalam presenti...  \n",
      "1   Alwarkurichi, Tirunelveli district, Madras Pre...  \n",
      "2   11 January 2011Kasturba Hospital, Manipal, Kar...  \n",
      "3                             Loyola College, Chennai  \n",
      "4             IndustrialistEducationistPhilanthropist  \n",
      "5                                           1957–2011  \n",
      "6                                 Amalgamations Group  \n",
      "7                                   Indira Sivasailam  \n",
      "8             Mallika SrinivasanJayashree Venkatraman  \n",
      "9                     S. Anantharamakrishnan (father)  \n",
      "10  Padma ShriNIQA Outstanding Industrialist Award...  \n",
      "11                     Website of Amalgamations Group  ]\n"
     ]
    }
   ],
   "source": [
    "df=pd.read_html(str(table))\n",
    "# convert list to dataframe\n",
    "print(df)"
   ]
  },
  {
   "cell_type": "code",
   "execution_count": 22,
   "id": "bbd1b38e",
   "metadata": {},
   "outputs": [
    {
     "ename": "ValueError",
     "evalue": "Must pass 2-d input. shape=(1, 12, 2)",
     "output_type": "error",
     "traceback": [
      "\u001b[1;31m---------------------------------------------------------------------------\u001b[0m",
      "\u001b[1;31mValueError\u001b[0m                                Traceback (most recent call last)",
      "Input \u001b[1;32mIn [22]\u001b[0m, in \u001b[0;36m<cell line: 3>\u001b[1;34m()\u001b[0m\n\u001b[0;32m      1\u001b[0m df\u001b[38;5;241m=\u001b[39mpd\u001b[38;5;241m.\u001b[39mread_html(\u001b[38;5;28mstr\u001b[39m(table))\n\u001b[0;32m      2\u001b[0m \u001b[38;5;66;03m# convert list to dataframe\u001b[39;00m\n\u001b[1;32m----> 3\u001b[0m df\u001b[38;5;241m=\u001b[39m\u001b[43mpd\u001b[49m\u001b[38;5;241;43m.\u001b[39;49m\u001b[43mDataFrame\u001b[49m\u001b[43m(\u001b[49m\u001b[43mdf\u001b[49m\u001b[43m,\u001b[49m\u001b[43mcolumns\u001b[49m\u001b[38;5;241;43m=\u001b[39;49m\u001b[43m[\u001b[49m\u001b[38;5;124;43m'\u001b[39;49m\u001b[38;5;124;43mBorn\u001b[39;49m\u001b[38;5;124;43m'\u001b[39;49m\u001b[43m,\u001b[49m\u001b[43m \u001b[49m\u001b[38;5;124;43m'\u001b[39;49m\u001b[38;5;124;43mDied\u001b[39;49m\u001b[38;5;124;43m'\u001b[39;49m\u001b[43m,\u001b[49m\u001b[38;5;124;43m'\u001b[39;49m\u001b[38;5;124;43mAlma mater\u001b[39;49m\u001b[38;5;124;43m'\u001b[39;49m\u001b[43m,\u001b[49m\u001b[38;5;124;43m'\u001b[39;49m\u001b[38;5;124;43mOccupation\u001b[39;49m\u001b[38;5;124;43m'\u001b[39;49m\u001b[43m,\u001b[49m\u001b[38;5;124;43m'\u001b[39;49m\u001b[38;5;124;43mYears active\u001b[39;49m\u001b[38;5;124;43m'\u001b[39;49m\u001b[43m,\u001b[49m\u001b[38;5;124;43m'\u001b[39;49m\u001b[38;5;124;43mKnown for\u001b[39;49m\u001b[38;5;124;43m'\u001b[39;49m\u001b[43m,\u001b[49m\u001b[38;5;124;43m'\u001b[39;49m\u001b[38;5;124;43mSpouse(s)\u001b[39;49m\u001b[38;5;124;43m'\u001b[39;49m\u001b[43m,\u001b[49m\u001b[38;5;124;43m'\u001b[39;49m\u001b[38;5;124;43mChildren\u001b[39;49m\u001b[38;5;124;43m'\u001b[39;49m\u001b[43m,\u001b[49m\u001b[38;5;124;43m'\u001b[39;49m\u001b[38;5;124;43mParent(s)\u001b[39;49m\u001b[38;5;124;43m'\u001b[39;49m\u001b[43m,\u001b[49m\u001b[38;5;124;43m'\u001b[39;49m\u001b[38;5;124;43mAwards\u001b[39;49m\u001b[38;5;124;43m'\u001b[39;49m\u001b[43m \u001b[49m\u001b[43m]\u001b[49m\u001b[43m)\u001b[49m\n\u001b[0;32m      4\u001b[0m \u001b[38;5;28mprint\u001b[39m(df)\n",
      "File \u001b[1;32m~\\anaconda3\\envs\\indicwiki\\lib\\site-packages\\pandas\\core\\frame.py:737\u001b[0m, in \u001b[0;36mDataFrame.__init__\u001b[1;34m(self, data, index, columns, dtype, copy)\u001b[0m\n\u001b[0;32m    729\u001b[0m         mgr \u001b[38;5;241m=\u001b[39m arrays_to_mgr(\n\u001b[0;32m    730\u001b[0m             arrays,\n\u001b[0;32m    731\u001b[0m             columns,\n\u001b[1;32m   (...)\u001b[0m\n\u001b[0;32m    734\u001b[0m             typ\u001b[38;5;241m=\u001b[39mmanager,\n\u001b[0;32m    735\u001b[0m         )\n\u001b[0;32m    736\u001b[0m     \u001b[38;5;28;01melse\u001b[39;00m:\n\u001b[1;32m--> 737\u001b[0m         mgr \u001b[38;5;241m=\u001b[39m \u001b[43mndarray_to_mgr\u001b[49m\u001b[43m(\u001b[49m\n\u001b[0;32m    738\u001b[0m \u001b[43m            \u001b[49m\u001b[43mdata\u001b[49m\u001b[43m,\u001b[49m\n\u001b[0;32m    739\u001b[0m \u001b[43m            \u001b[49m\u001b[43mindex\u001b[49m\u001b[43m,\u001b[49m\n\u001b[0;32m    740\u001b[0m \u001b[43m            \u001b[49m\u001b[43mcolumns\u001b[49m\u001b[43m,\u001b[49m\n\u001b[0;32m    741\u001b[0m \u001b[43m            \u001b[49m\u001b[43mdtype\u001b[49m\u001b[38;5;241;43m=\u001b[39;49m\u001b[43mdtype\u001b[49m\u001b[43m,\u001b[49m\n\u001b[0;32m    742\u001b[0m \u001b[43m            \u001b[49m\u001b[43mcopy\u001b[49m\u001b[38;5;241;43m=\u001b[39;49m\u001b[43mcopy\u001b[49m\u001b[43m,\u001b[49m\n\u001b[0;32m    743\u001b[0m \u001b[43m            \u001b[49m\u001b[43mtyp\u001b[49m\u001b[38;5;241;43m=\u001b[39;49m\u001b[43mmanager\u001b[49m\u001b[43m,\u001b[49m\n\u001b[0;32m    744\u001b[0m \u001b[43m        \u001b[49m\u001b[43m)\u001b[49m\n\u001b[0;32m    745\u001b[0m \u001b[38;5;28;01melse\u001b[39;00m:\n\u001b[0;32m    746\u001b[0m     mgr \u001b[38;5;241m=\u001b[39m dict_to_mgr(\n\u001b[0;32m    747\u001b[0m         {},\n\u001b[0;32m    748\u001b[0m         index,\n\u001b[1;32m   (...)\u001b[0m\n\u001b[0;32m    751\u001b[0m         typ\u001b[38;5;241m=\u001b[39mmanager,\n\u001b[0;32m    752\u001b[0m     )\n",
      "File \u001b[1;32m~\\anaconda3\\envs\\indicwiki\\lib\\site-packages\\pandas\\core\\internals\\construction.py:331\u001b[0m, in \u001b[0;36mndarray_to_mgr\u001b[1;34m(values, index, columns, dtype, copy, typ)\u001b[0m\n\u001b[0;32m    326\u001b[0m         values \u001b[38;5;241m=\u001b[39m values\u001b[38;5;241m.\u001b[39mreshape(\u001b[38;5;241m-\u001b[39m\u001b[38;5;241m1\u001b[39m, \u001b[38;5;241m1\u001b[39m)\n\u001b[0;32m    328\u001b[0m \u001b[38;5;28;01melse\u001b[39;00m:\n\u001b[0;32m    329\u001b[0m     \u001b[38;5;66;03m# by definition an array here\u001b[39;00m\n\u001b[0;32m    330\u001b[0m     \u001b[38;5;66;03m# the dtypes will be coerced to a single dtype\u001b[39;00m\n\u001b[1;32m--> 331\u001b[0m     values \u001b[38;5;241m=\u001b[39m \u001b[43m_prep_ndarray\u001b[49m\u001b[43m(\u001b[49m\u001b[43mvalues\u001b[49m\u001b[43m,\u001b[49m\u001b[43m \u001b[49m\u001b[43mcopy\u001b[49m\u001b[38;5;241;43m=\u001b[39;49m\u001b[43mcopy_on_sanitize\u001b[49m\u001b[43m)\u001b[49m\n\u001b[0;32m    333\u001b[0m \u001b[38;5;28;01mif\u001b[39;00m dtype \u001b[38;5;129;01mis\u001b[39;00m \u001b[38;5;129;01mnot\u001b[39;00m \u001b[38;5;28;01mNone\u001b[39;00m \u001b[38;5;129;01mand\u001b[39;00m \u001b[38;5;129;01mnot\u001b[39;00m is_dtype_equal(values\u001b[38;5;241m.\u001b[39mdtype, dtype):\n\u001b[0;32m    334\u001b[0m     shape \u001b[38;5;241m=\u001b[39m values\u001b[38;5;241m.\u001b[39mshape\n",
      "File \u001b[1;32m~\\anaconda3\\envs\\indicwiki\\lib\\site-packages\\pandas\\core\\internals\\construction.py:591\u001b[0m, in \u001b[0;36m_prep_ndarray\u001b[1;34m(values, copy)\u001b[0m\n\u001b[0;32m    589\u001b[0m     values \u001b[38;5;241m=\u001b[39m values\u001b[38;5;241m.\u001b[39mreshape((values\u001b[38;5;241m.\u001b[39mshape[\u001b[38;5;241m0\u001b[39m], \u001b[38;5;241m1\u001b[39m))\n\u001b[0;32m    590\u001b[0m \u001b[38;5;28;01melif\u001b[39;00m values\u001b[38;5;241m.\u001b[39mndim \u001b[38;5;241m!=\u001b[39m \u001b[38;5;241m2\u001b[39m:\n\u001b[1;32m--> 591\u001b[0m     \u001b[38;5;28;01mraise\u001b[39;00m \u001b[38;5;167;01mValueError\u001b[39;00m(\u001b[38;5;124mf\u001b[39m\u001b[38;5;124m\"\u001b[39m\u001b[38;5;124mMust pass 2-d input. shape=\u001b[39m\u001b[38;5;132;01m{\u001b[39;00mvalues\u001b[38;5;241m.\u001b[39mshape\u001b[38;5;132;01m}\u001b[39;00m\u001b[38;5;124m\"\u001b[39m)\n\u001b[0;32m    593\u001b[0m \u001b[38;5;28;01mreturn\u001b[39;00m values\n",
      "\u001b[1;31mValueError\u001b[0m: Must pass 2-d input. shape=(1, 12, 2)"
     ]
    }
   ],
   "source": [
    "# df=pd.read_html(str(table))\n",
    "# # convert list to dataframe\n",
    "# df=pd.DataFrame(df,columns=['Born', 'Died','Alma mater','Occupation','Years active','Known for','Spouse(s)','Children','Parent(s)','Awards' ])\n",
    "# print(df)"
   ]
  },
  {
   "cell_type": "code",
   "execution_count": 13,
   "id": "9fe2855f",
   "metadata": {},
   "outputs": [
    {
     "name": "stdout",
     "output_type": "stream",
     "text": [
      "                                        A. Sivasailam  \\\n",
      "0   The President, Dr. A.P.J. Abdul Kalam presenti...   \n",
      "1                                                Born   \n",
      "2                                                Died   \n",
      "3                                          Alma mater   \n",
      "4                                          Occupation   \n",
      "5                                        Years active   \n",
      "6                                           Known for   \n",
      "7                                           Spouse(s)   \n",
      "8                                            Children   \n",
      "9                                           Parent(s)   \n",
      "10                                             Awards   \n",
      "11                                            Website   \n",
      "\n",
      "                                      A. Sivasailam.1  \n",
      "0   The President, Dr. A.P.J. Abdul Kalam presenti...  \n",
      "1   Alwarkurichi, Tirunelveli district, Madras Pre...  \n",
      "2   11 January 2011Kasturba Hospital, Manipal, Kar...  \n",
      "3                             Loyola College, Chennai  \n",
      "4             IndustrialistEducationistPhilanthropist  \n",
      "5                                           1957–2011  \n",
      "6                                 Amalgamations Group  \n",
      "7                                   Indira Sivasailam  \n",
      "8             Mallika SrinivasanJayashree Venkatraman  \n",
      "9                     S. Anantharamakrishnan (father)  \n",
      "10  Padma ShriNIQA Outstanding Industrialist Award...  \n",
      "11                     Website of Amalgamations Group  \n"
     ]
    }
   ],
   "source": [
    "pivoted = df.pivot( columns=\"A. Sivasailam\", values=\"A. Sivasailam.1\")\n",
    "\n",
    "print(df)"
   ]
  },
  {
   "cell_type": "code",
   "execution_count": 7,
   "id": "00c84f79",
   "metadata": {},
   "outputs": [
    {
     "name": "stdout",
     "output_type": "stream",
     "text": [
      "DataFrame is written to Excel File successfully.\n"
     ]
    }
   ],
   "source": [
    "\n",
    "file_name = 'infobox_trail.xlsx'\n",
    "\n",
    "df.to_excel(file_name)\n",
    "print('DataFrame is written to Excel File successfully.')"
   ]
  },
  {
   "cell_type": "code",
   "execution_count": 9,
   "id": "1fec590c",
   "metadata": {},
   "outputs": [],
   "source": [
    "\n"
   ]
  },
  {
   "cell_type": "code",
   "execution_count": null,
   "id": "e5b6114a",
   "metadata": {},
   "outputs": [],
   "source": [
    "# li=[]\n",
    "# for i,j in zip(data['Company'],data['url']):\n",
    "#     try:\n",
    "#         driver.get(j)\n",
    "#         table1 = driver.find_elements(by=By.XPATH,value = \"//table[@class='infobox vcard']/tbody/tr/th\")\n",
    "#         table2 = driver.find_elements(by=By.XPATH,value = \"//table[@class='infobox vcard']/tbody/tr/td\")\n",
    "#         t = dict()\n",
    "#         t['Company'] = i\n",
    "#         for k,l in zip(table1,table2[1:]):\n",
    "#             t[k.text] = l.text\n",
    "#         li.append(t)\n",
    "#         print(i,j)\n",
    "#     except:\n",
    "#         li.append(np.nan)"
   ]
  }
 ],
 "metadata": {
  "kernelspec": {
   "display_name": "Akwiki",
   "language": "python",
   "name": "indicwiki"
  },
  "language_info": {
   "codemirror_mode": {
    "name": "ipython",
    "version": 3
   },
   "file_extension": ".py",
   "mimetype": "text/x-python",
   "name": "python",
   "nbconvert_exporter": "python",
   "pygments_lexer": "ipython3",
   "version": "3.9.11"
  }
 },
 "nbformat": 4,
 "nbformat_minor": 5
}
