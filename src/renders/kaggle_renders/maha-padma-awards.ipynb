{
 "cells": [
  {
   "cell_type": "code",
   "execution_count": 1,
   "id": "4c432dd5",
   "metadata": {
    "_cell_guid": "b1076dfc-b9ad-4769-8c92-a6c4dae69d19",
    "_uuid": "8f2839f25d086af736a60e9eeb907d3b93b6e0e5",
    "execution": {
     "iopub.execute_input": "2022-04-30T15:35:50.562528Z",
     "iopub.status.busy": "2022-04-30T15:35:50.561853Z",
     "iopub.status.idle": "2022-04-30T15:35:50.592195Z",
     "shell.execute_reply": "2022-04-30T15:35:50.591166Z"
    },
    "papermill": {
     "duration": 0.046332,
     "end_time": "2022-04-30T15:35:50.593948",
     "exception": false,
     "start_time": "2022-04-30T15:35:50.547616",
     "status": "completed"
    },
    "tags": []
   },
   "outputs": [
    {
     "name": "stdout",
     "output_type": "stream",
     "text": [
      "/kaggle/input/padmaawards-maha/renders_awards_v5_Kaggle_out.csv\n",
      "/kaggle/input/padmaawards-maha/renders_awards_v4_Kaggle_out.csv\n",
      "/kaggle/input/renders/renders_awards_v1_03_01_awards_Kaggle_out.csv\n",
      "/kaggle/input/mahapadmaawards/renders_awards_v1_03_05_persons_translated_Kaggle_out.csv\n"
     ]
    }
   ],
   "source": [
    "# This Python 3 environment comes with many helpful analytics libraries installed\n",
    "# It is defined by the kaggle/python Docker image: https://github.com/kaggle/docker-python\n",
    "# For example, here's several helpful packages to load\n",
    "\n",
    "import numpy as np # linear algebra\n",
    "import pandas as pd # data processing, CSV file I/O (e.g. pd.read_csv)\n",
    "\n",
    "# Input data files are available in the read-only \"../input/\" directory\n",
    "# For example, running this (by clicking run or pressing Shift+Enter) will list all files under the input directory\n",
    "\n",
    "import os\n",
    "for dirname, _, filenames in os.walk('/kaggle/input'):\n",
    "    for filename in filenames:\n",
    "        print(os.path.join(dirname, filename))\n",
    "\n",
    "# You can write up to 20GB to the current directory (/kaggle/working/) that gets preserved as output when you create a version using \"Save & Run All\" \n",
    "# You can also write temporary files to /kaggle/temp/, but they won't be saved outside of the current session"
   ]
  },
  {
   "cell_type": "code",
   "execution_count": 2,
   "id": "37fe2235",
   "metadata": {
    "execution": {
     "iopub.execute_input": "2022-04-30T15:35:50.619831Z",
     "iopub.status.busy": "2022-04-30T15:35:50.619265Z",
     "iopub.status.idle": "2022-04-30T15:36:13.006217Z",
     "shell.execute_reply": "2022-04-30T15:36:13.005385Z"
    },
    "papermill": {
     "duration": 22.401653,
     "end_time": "2022-04-30T15:36:13.008338",
     "exception": false,
     "start_time": "2022-04-30T15:35:50.606685",
     "status": "completed"
    },
    "tags": []
   },
   "outputs": [
    {
     "name": "stdout",
     "output_type": "stream",
     "text": [
      "Requirement already satisfied: tqdm in /opt/conda/lib/python3.7/site-packages (4.63.0)\r\n",
      "Collecting openpyxl\r\n",
      "  Downloading openpyxl-3.0.9-py2.py3-none-any.whl (242 kB)\r\n",
      "\u001b[2K     \u001b[90m━━━━━━━━━━━━━━━━━━━━━━━━━━━━━━━━━━━━━━━\u001b[0m \u001b[32m242.2/242.2 KB\u001b[0m \u001b[31m1.1 MB/s\u001b[0m eta \u001b[36m0:00:00\u001b[0m\r\n",
      "\u001b[?25hCollecting anuvaad\r\n",
      "  Downloading anuvaad-1.0.6-py2.py3-none-any.whl (17 kB)\r\n",
      "Collecting et-xmlfile\r\n",
      "  Downloading et_xmlfile-1.1.0-py3-none-any.whl (4.7 kB)\r\n",
      "Requirement already satisfied: transformers>=4.5.0 in /opt/conda/lib/python3.7/site-packages (from anuvaad) (4.18.0)\r\n",
      "Collecting pydload>=1.0.9\r\n",
      "  Downloading pydload-1.0.9-py2.py3-none-any.whl (16 kB)\r\n",
      "Requirement already satisfied: sentencepiece in /opt/conda/lib/python3.7/site-packages (from anuvaad) (0.1.96)\r\n",
      "Requirement already satisfied: torch>=1.5.0 in /opt/conda/lib/python3.7/site-packages (from anuvaad) (1.9.1)\r\n",
      "Requirement already satisfied: progressbar2 in /opt/conda/lib/python3.7/site-packages (from pydload>=1.0.9->anuvaad) (4.0.0)\r\n",
      "Requirement already satisfied: requests in /opt/conda/lib/python3.7/site-packages (from pydload>=1.0.9->anuvaad) (2.27.1)\r\n",
      "Requirement already satisfied: typing-extensions in /opt/conda/lib/python3.7/site-packages (from torch>=1.5.0->anuvaad) (4.2.0)\r\n",
      "Requirement already satisfied: sacremoses in /opt/conda/lib/python3.7/site-packages (from transformers>=4.5.0->anuvaad) (0.0.49)\r\n",
      "Requirement already satisfied: huggingface-hub<1.0,>=0.1.0 in /opt/conda/lib/python3.7/site-packages (from transformers>=4.5.0->anuvaad) (0.5.1)\r\n",
      "Requirement already satisfied: regex!=2019.12.17 in /opt/conda/lib/python3.7/site-packages (from transformers>=4.5.0->anuvaad) (2021.11.10)\r\n",
      "Requirement already satisfied: filelock in /opt/conda/lib/python3.7/site-packages (from transformers>=4.5.0->anuvaad) (3.6.0)\r\n",
      "Requirement already satisfied: importlib-metadata in /opt/conda/lib/python3.7/site-packages (from transformers>=4.5.0->anuvaad) (4.11.3)\r\n",
      "Requirement already satisfied: pyyaml>=5.1 in /opt/conda/lib/python3.7/site-packages (from transformers>=4.5.0->anuvaad) (6.0)\r\n",
      "Requirement already satisfied: tokenizers!=0.11.3,<0.13,>=0.11.1 in /opt/conda/lib/python3.7/site-packages (from transformers>=4.5.0->anuvaad) (0.12.1)\r\n",
      "Requirement already satisfied: packaging>=20.0 in /opt/conda/lib/python3.7/site-packages (from transformers>=4.5.0->anuvaad) (21.3)\r\n",
      "Requirement already satisfied: numpy>=1.17 in /opt/conda/lib/python3.7/site-packages (from transformers>=4.5.0->anuvaad) (1.21.6)\r\n",
      "Requirement already satisfied: pyparsing!=3.0.5,>=2.0.2 in /opt/conda/lib/python3.7/site-packages (from packaging>=20.0->transformers>=4.5.0->anuvaad) (3.0.7)\r\n",
      "Requirement already satisfied: zipp>=0.5 in /opt/conda/lib/python3.7/site-packages (from importlib-metadata->transformers>=4.5.0->anuvaad) (3.7.0)\r\n",
      "Requirement already satisfied: python-utils>=3.0.0 in /opt/conda/lib/python3.7/site-packages (from progressbar2->pydload>=1.0.9->anuvaad) (3.1.0)\r\n",
      "Requirement already satisfied: certifi>=2017.4.17 in /opt/conda/lib/python3.7/site-packages (from requests->pydload>=1.0.9->anuvaad) (2021.10.8)\r\n",
      "Requirement already satisfied: charset-normalizer~=2.0.0 in /opt/conda/lib/python3.7/site-packages (from requests->pydload>=1.0.9->anuvaad) (2.0.12)\r\n",
      "Requirement already satisfied: idna<4,>=2.5 in /opt/conda/lib/python3.7/site-packages (from requests->pydload>=1.0.9->anuvaad) (3.3)\r\n",
      "Requirement already satisfied: urllib3<1.27,>=1.21.1 in /opt/conda/lib/python3.7/site-packages (from requests->pydload>=1.0.9->anuvaad) (1.26.8)\r\n",
      "Requirement already satisfied: joblib in /opt/conda/lib/python3.7/site-packages (from sacremoses->transformers>=4.5.0->anuvaad) (1.0.1)\r\n",
      "Requirement already satisfied: click in /opt/conda/lib/python3.7/site-packages (from sacremoses->transformers>=4.5.0->anuvaad) (8.0.4)\r\n",
      "Requirement already satisfied: six in /opt/conda/lib/python3.7/site-packages (from sacremoses->transformers>=4.5.0->anuvaad) (1.16.0)\r\n",
      "Installing collected packages: et-xmlfile, pydload, openpyxl, anuvaad\r\n",
      "Successfully installed anuvaad-1.0.6 et-xmlfile-1.1.0 openpyxl-3.0.9 pydload-1.0.9\r\n",
      "\u001b[33mWARNING: Running pip as the 'root' user can result in broken permissions and conflicting behaviour with the system package manager. It is recommended to use a virtual environment instead: https://pip.pypa.io/warnings/venv\u001b[0m\u001b[33m\r\n",
      "\u001b[0mCollecting deep-translator\r\n",
      "  Downloading deep_translator-1.8.3-py3-none-any.whl (29 kB)\r\n",
      "Requirement already satisfied: beautifulsoup4<5.0.0,>=4.9.1 in /opt/conda/lib/python3.7/site-packages (from deep-translator) (4.10.0)\r\n",
      "Requirement already satisfied: requests<3.0.0,>=2.23.0 in /opt/conda/lib/python3.7/site-packages (from deep-translator) (2.27.1)\r\n",
      "Requirement already satisfied: soupsieve>1.2 in /opt/conda/lib/python3.7/site-packages (from beautifulsoup4<5.0.0,>=4.9.1->deep-translator) (2.3.1)\r\n",
      "Requirement already satisfied: urllib3<1.27,>=1.21.1 in /opt/conda/lib/python3.7/site-packages (from requests<3.0.0,>=2.23.0->deep-translator) (1.26.8)\r\n",
      "Requirement already satisfied: certifi>=2017.4.17 in /opt/conda/lib/python3.7/site-packages (from requests<3.0.0,>=2.23.0->deep-translator) (2021.10.8)\r\n",
      "Requirement already satisfied: idna<4,>=2.5 in /opt/conda/lib/python3.7/site-packages (from requests<3.0.0,>=2.23.0->deep-translator) (3.3)\r\n",
      "Requirement already satisfied: charset-normalizer~=2.0.0 in /opt/conda/lib/python3.7/site-packages (from requests<3.0.0,>=2.23.0->deep-translator) (2.0.12)\r\n",
      "Installing collected packages: deep-translator\r\n",
      "Successfully installed deep-translator-1.8.3\r\n",
      "\u001b[33mWARNING: Running pip as the 'root' user can result in broken permissions and conflicting behaviour with the system package manager. It is recommended to use a virtual environment instead: https://pip.pypa.io/warnings/venv\u001b[0m\u001b[33m\r\n",
      "\u001b[0m"
     ]
    }
   ],
   "source": [
    "!pip install tqdm openpyxl anuvaad \n",
    "!pip install -U deep-translator"
   ]
  },
  {
   "cell_type": "code",
   "execution_count": 3,
   "id": "de94bbaf",
   "metadata": {
    "execution": {
     "iopub.execute_input": "2022-04-30T15:36:13.053947Z",
     "iopub.status.busy": "2022-04-30T15:36:13.053696Z",
     "iopub.status.idle": "2022-04-30T15:36:13.059593Z",
     "shell.execute_reply": "2022-04-30T15:36:13.058922Z"
    },
    "papermill": {
     "duration": 0.031043,
     "end_time": "2022-04-30T15:36:13.061205",
     "exception": false,
     "start_time": "2022-04-30T15:36:13.030162",
     "status": "completed"
    },
    "tags": []
   },
   "outputs": [],
   "source": [
    "# from tqdm import tqdm\n",
    "# pd.set_option('display.max_rows', 500)\n",
    "# pd.set_option('display.max_columns', 500)\n",
    "# pd.set_option('display.width', 1000)\n",
    "\n",
    "def out(ver,data):\n",
    "    data.to_csv('renders_awards_v'+ver+'_Kaggle_out.csv')\n",
    "    data.to_pickle('renders_awards_v'+ver+'_Kaggle_out.pickle')\n",
    "    data.to_excel('renders_awards_v'+ver+'_Kaggle_out.xlsx')\n",
    "def out_csv(ver,data):\n",
    "    data.to_csv('renders_awards_v'+ver+'_Kaggle_out.csv')\n",
    "# awards = pd.read_csv('/kaggle/input/mahapadmaawards/renders_awards_v1_03_05_persons_translated_Kaggle_out.csv')\n",
    "# c = []\n",
    "# for i in awards.columns:\n",
    "#     if len(i) > 100:\n",
    "#         c.append(i)\n",
    "# awards.drop(columns=c,inplace=True)\n",
    "# rem_l = []\n",
    "# for i in awards.columns:\n",
    "#     if \"'''\" in i:\n",
    "#         rem_l.append(i)\n",
    "# awards.drop(columns=rem_l,inplace=True)\n",
    "# rem_lis = []\n",
    "# for i in awards.columns:\n",
    "#     # if sum(~pd.isna(awards[i])) > 1*awards.shape[0]//100:\n",
    "#     if sum(~pd.isna(awards[i])) > 3 :\n",
    "#         # print(i,sum(pd.isna(awards[i])))\n",
    "#         pass\n",
    "#     else:\n",
    "#         rem_lis.append(i)\n",
    "# awards.drop(columns=rem_lis,inplace=True)"
   ]
  },
  {
   "cell_type": "code",
   "execution_count": 4,
   "id": "0725b8c4",
   "metadata": {
    "execution": {
     "iopub.execute_input": "2022-04-30T15:36:13.103636Z",
     "iopub.status.busy": "2022-04-30T15:36:13.102990Z",
     "iopub.status.idle": "2022-04-30T15:36:13.106817Z",
     "shell.execute_reply": "2022-04-30T15:36:13.106164Z"
    },
    "papermill": {
     "duration": 0.026793,
     "end_time": "2022-04-30T15:36:13.108482",
     "exception": false,
     "start_time": "2022-04-30T15:36:13.081689",
     "status": "completed"
    },
    "tags": []
   },
   "outputs": [],
   "source": [
    "# def cut_down(text):\n",
    "#     if pd.isna(text):\n",
    "#         return np.nan\n",
    "#     elif type(text) == np.int64:\n",
    "#         return text\n",
    "#     text = text.strip()\n",
    "#     text.replace('\\n','')\n",
    "#     text.replace('\\t','')\n",
    "#     text.replace('\\v','')\n",
    "    \n",
    "#     if '.' in text:\n",
    "#         text_lis =  text.split('.')\n",
    "#         if len(text_lis) > 10:\n",
    "#             text = '.'.join(text_lis[:10])\n",
    "#     return text.strip()\n",
    "\n",
    "# for i in tqdm(awards.columns,\"Outer\"):\n",
    "#     for j in tqdm(range(awards.shape[0]),\"Inner\"):\n",
    "#         awards[i][j] = cut_down(awards[i][j])"
   ]
  },
  {
   "cell_type": "code",
   "execution_count": 5,
   "id": "3926aea4",
   "metadata": {
    "execution": {
     "iopub.execute_input": "2022-04-30T15:36:13.151233Z",
     "iopub.status.busy": "2022-04-30T15:36:13.150701Z",
     "iopub.status.idle": "2022-04-30T15:36:13.154293Z",
     "shell.execute_reply": "2022-04-30T15:36:13.153586Z"
    },
    "papermill": {
     "duration": 0.026843,
     "end_time": "2022-04-30T15:36:13.155885",
     "exception": false,
     "start_time": "2022-04-30T15:36:13.129042",
     "status": "completed"
    },
    "tags": []
   },
   "outputs": [],
   "source": [
    "# out('4_Kaggle_out',awards)"
   ]
  },
  {
   "cell_type": "code",
   "execution_count": 6,
   "id": "171bb1af",
   "metadata": {
    "execution": {
     "iopub.execute_input": "2022-04-30T15:36:13.198541Z",
     "iopub.status.busy": "2022-04-30T15:36:13.197982Z",
     "iopub.status.idle": "2022-04-30T15:36:13.482402Z",
     "shell.execute_reply": "2022-04-30T15:36:13.481704Z"
    },
    "papermill": {
     "duration": 0.308364,
     "end_time": "2022-04-30T15:36:13.484756",
     "exception": false,
     "start_time": "2022-04-30T15:36:13.176392",
     "status": "completed"
    },
    "tags": []
   },
   "outputs": [],
   "source": [
    "import pandas as pd\n",
    "import numpy as np\n",
    "from tqdm import tqdm \n",
    "from urllib.request import urlopen\n",
    "from bs4 import BeautifulSoup\n",
    "import re\n",
    "from deep_translator import (GoogleTranslator,\n",
    "                             MicrosoftTranslator,\n",
    "                             PonsTranslator,\n",
    "                             LingueeTranslator,\n",
    "                             MyMemoryTranslator,\n",
    "                             YandexTranslator,\n",
    "                             PapagoTranslator,\n",
    "                             DeeplTranslator,\n",
    "                             QcriTranslator,\n",
    "                             single_detection,\n",
    "                             batch_detection)\n"
   ]
  },
  {
   "cell_type": "code",
   "execution_count": 7,
   "id": "942e786e",
   "metadata": {
    "execution": {
     "iopub.execute_input": "2022-04-30T15:36:13.529504Z",
     "iopub.status.busy": "2022-04-30T15:36:13.528903Z",
     "iopub.status.idle": "2022-04-30T15:38:33.717008Z",
     "shell.execute_reply": "2022-04-30T15:38:33.716186Z"
    },
    "papermill": {
     "duration": 140.212664,
     "end_time": "2022-04-30T15:38:33.719077",
     "exception": false,
     "start_time": "2022-04-30T15:36:13.506413",
     "status": "completed"
    },
    "tags": []
   },
   "outputs": [
    {
     "name": "stdout",
     "output_type": "stream",
     "text": [
      "Downloading pytorch_model.bin\n"
     ]
    },
    {
     "name": "stderr",
     "output_type": "stream",
     "text": [
      "MB100% (1501.0 of 1501.0) |##############| Elapsed Time: 0:01:24 Time:  0:01:24\n",
      "MB100% (722.0 of 722.0) |################| Elapsed Time: 0:00:31 Time:  0:00:31\n"
     ]
    },
    {
     "name": "stdout",
     "output_type": "stream",
     "text": [
      "Succefully Downloaded to: /root/.Anuvaad_en-te/pytorch_model.bin\n",
      "Downloading config.json\n"
     ]
    },
    {
     "name": "stderr",
     "output_type": "stream",
     "text": [
      "MB100% (1.0 of 1.0) |####################| Elapsed Time: 0:00:00 Time:  0:00:00\n"
     ]
    },
    {
     "name": "stdout",
     "output_type": "stream",
     "text": [
      "Succefully Downloaded to: /root/.Anuvaad_en-te/config.json\n",
      "Downloading special_tokens_map.json\n"
     ]
    },
    {
     "name": "stderr",
     "output_type": "stream",
     "text": [
      "MB100% (1.0 of 1.0) |####################| Elapsed Time: 0:00:00 Time:  0:00:00\n"
     ]
    },
    {
     "name": "stdout",
     "output_type": "stream",
     "text": [
      "Succefully Downloaded to: /root/.Anuvaad_en-te/special_tokens_map.json\n",
      "Downloading spiece.model\n"
     ]
    },
    {
     "name": "stderr",
     "output_type": "stream",
     "text": [
      "MB100% (5.0 of 5.0) |####################| Elapsed Time: 0:00:00 Time:  0:00:00\n"
     ]
    },
    {
     "name": "stdout",
     "output_type": "stream",
     "text": [
      "Succefully Downloaded to: /root/.Anuvaad_en-te/spiece.model\n",
      "Downloading tokenizer_config.json\n"
     ]
    },
    {
     "name": "stderr",
     "output_type": "stream",
     "text": [
      "MB100% (1.0 of 1.0) |####################| Elapsed Time: 0:00:00 Time:  0:00:00\n"
     ]
    },
    {
     "name": "stdout",
     "output_type": "stream",
     "text": [
      "Succefully Downloaded to: /root/.Anuvaad_en-te/tokenizer_config.json\n",
      "Using GPU\n"
     ]
    }
   ],
   "source": [
    "from time import sleep\n",
    "from anuvaad import Anuvaad\n",
    "import random\n",
    "anu = Anuvaad(\"english-telugu\")"
   ]
  },
  {
   "cell_type": "code",
   "execution_count": 8,
   "id": "fcabc7ef",
   "metadata": {
    "execution": {
     "iopub.execute_input": "2022-04-30T15:38:34.238901Z",
     "iopub.status.busy": "2022-04-30T15:38:34.238644Z",
     "iopub.status.idle": "2022-04-30T15:38:34.242767Z",
     "shell.execute_reply": "2022-04-30T15:38:34.242062Z"
    },
    "papermill": {
     "duration": 0.268544,
     "end_time": "2022-04-30T15:38:34.244433",
     "exception": false,
     "start_time": "2022-04-30T15:38:33.975889",
     "status": "completed"
    },
    "tags": []
   },
   "outputs": [],
   "source": [
    "# def get_img(URL):\n",
    "#     if URL != None:\n",
    "#         try:\n",
    "#             if not pd.isna(URL):\n",
    "#                 html = urlopen(URL)\n",
    "#                 bs = BeautifulSoup(html, 'html.parser')\n",
    "#                 images = bs.find_all('img', {'src':re.compile('.jpg')})\n",
    "#                 if len(images) != 0:\n",
    "#                     for image in images:\n",
    "#                         if str(image['src']).split('/')[-1].split('-')[-1] == 'thumbnail.jpg':\n",
    "#                             continue\n",
    "#                         # print(str(image['src']).split('/')[-1])\n",
    "#                         return str(image['src']).split('/')[-1].split('-')[-1]\n",
    "#                 else:\n",
    "#                     images = bs.find_all('img', {'src':re.compile('.jpeg')})\n",
    "#                     if len(images) != 0:\n",
    "#                         for image in images: \n",
    "#                             # print(str(image['src']).split('/')[-1])\n",
    "#                             return str(image['src']).split('/')[-1].split('-')[-1]\n",
    "#                     return np.nan\n",
    "#             return np.nan\n",
    "#         except Exception as e:\n",
    "#             print(e)\n",
    "# #         finally:\n",
    "#             return np.nan\n",
    "#     return np.nan"
   ]
  },
  {
   "cell_type": "code",
   "execution_count": 9,
   "id": "c9041a47",
   "metadata": {
    "execution": {
     "iopub.execute_input": "2022-04-30T15:38:34.757539Z",
     "iopub.status.busy": "2022-04-30T15:38:34.757271Z",
     "iopub.status.idle": "2022-04-30T15:38:34.760788Z",
     "shell.execute_reply": "2022-04-30T15:38:34.760101Z"
    },
    "papermill": {
     "duration": 0.26098,
     "end_time": "2022-04-30T15:38:34.762442",
     "exception": false,
     "start_time": "2022-04-30T15:38:34.501462",
     "status": "completed"
    },
    "tags": []
   },
   "outputs": [],
   "source": [
    "# awards = pd.read_csv('/kaggle/input/renders/renders_awards_v1_03_01_awards_Kaggle_out.csv')\n",
    "# awards['image'] = np.nan\n",
    "# awards.reset_index(inplace=True)\n",
    "# for i in tqdm(range(awards.shape[0])):\n",
    "# # for i in tqdm(range(0,20)):\n",
    "#     k = awards['WikiLink'][i]\n",
    "# #     print(k)\n",
    "#     if pd.isna(k):\n",
    "#         awards['image'][i] = np.nan\n",
    "#     else:\n",
    "#         p = get_img(k)\n",
    "# #         print(p)\n",
    "#         awards['image'][i] = p\n",
    "# #     print(awards['image'][i])\n",
    "# awards.head(20)"
   ]
  },
  {
   "cell_type": "code",
   "execution_count": 10,
   "id": "227a5c13",
   "metadata": {
    "execution": {
     "iopub.execute_input": "2022-04-30T15:38:35.280813Z",
     "iopub.status.busy": "2022-04-30T15:38:35.280559Z",
     "iopub.status.idle": "2022-04-30T15:38:35.284056Z",
     "shell.execute_reply": "2022-04-30T15:38:35.283320Z"
    },
    "papermill": {
     "duration": 0.264519,
     "end_time": "2022-04-30T15:38:35.285928",
     "exception": false,
     "start_time": "2022-04-30T15:38:35.021409",
     "status": "completed"
    },
    "tags": []
   },
   "outputs": [],
   "source": [
    "# out('5_Kaggle_out',awards)"
   ]
  },
  {
   "cell_type": "code",
   "execution_count": 11,
   "id": "9ea95d5d",
   "metadata": {
    "execution": {
     "iopub.execute_input": "2022-04-30T15:38:36.079237Z",
     "iopub.status.busy": "2022-04-30T15:38:36.078932Z",
     "iopub.status.idle": "2022-04-30T15:38:36.203858Z",
     "shell.execute_reply": "2022-04-30T15:38:36.203203Z"
    },
    "papermill": {
     "duration": 0.536729,
     "end_time": "2022-04-30T15:38:36.206170",
     "exception": false,
     "start_time": "2022-04-30T15:38:35.669441",
     "status": "completed"
    },
    "tags": []
   },
   "outputs": [],
   "source": [
    "def google_onebyone(para):\n",
    "    try:\n",
    "        if pd.isna(para) or type(para) == np.int64:\n",
    "            return np.nan\n",
    "        else:\n",
    "            if len(para) != 0:\n",
    "                para = para.replace('\\n','')\n",
    "                para = para.replace('\\t','')\n",
    "                para = para.replace('\\u200c','')\n",
    "                lis_para = [i.strip() for i in para.strip().split('.') if i != '']\n",
    "                gle_lis_para = []\n",
    "                for lis_para_line in lis_para:\n",
    "                    if lis_para_line:\n",
    "                        gle_lis_para.append(GoogleTranslator(source='auto', target='te').translate(lis_para_line))\n",
    "                if len(gle_lis_para) != 0: \n",
    "                    trans_para = '.'.join(gle_lis_para) + '.'\n",
    "                trans_para = trans_para.replace('\\u200c','')\n",
    "                return trans_para\n",
    "    except Exception:\n",
    "        return -1\n",
    "    return np.nan\n",
    "\n",
    "def anu_vaad_onebyone(para):\n",
    "    if len(para) != 0:\n",
    "        lis_para = [i.strip() for i in para.strip().split('.') if i != '']\n",
    "        anu_lis_para =  anu.anuvaad(lis_para)\n",
    "        trans_para = '.'.join(anu_lis_para) + '.'\n",
    "        return trans_para\n",
    "    return np.nan\n",
    "\n",
    "def clean_format(text):\n",
    "    text  =text.replace('..','.')\n",
    "    text = text.replace('మరియు',\",\")\n",
    "    text = text.replace('యొక్క',\",\")\n",
    "    text = text.replace('అతను',\"ఇతను\")\n",
    "    text = text.replace('ఆమె',\"ఈమె\")\n",
    "    text = text.replace(',',\", \")\n",
    "    text = text.replace('.',\". \")\n",
    "    text = text.replace('..',\".\")\n",
    "    text = text.replace('..',\".\")\n",
    "    text = text.replace(',.',\".\")\n",
    "    text = text.replace('.,',\".\")\n",
    "    text = text.replace('..','.')\n",
    "    text = text.replace(',.',\".\")\n",
    "    text = text.replace('.,',\".\")\n",
    "    text = text.replace(' . ',\". \")\n",
    "    text = text.replace(' , ',\", \")\n",
    "    text = text.replace(' . ',\". \")\n",
    "    text = text.replace(' , ',\", \")\n",
    "    text = text.replace('  ',\" \")\n",
    "    return text\n",
    "\n",
    "def create_telugu_google_by_split(col,data,f,t):\n",
    "    data[col+' Telugu'] = np.nan\n",
    "    for i in tqdm(range(f,t),col):\n",
    "        try:\n",
    "            sleep(random.randint(0,3))\n",
    "            if not pd.isna(data[col][i]):\n",
    "                wer = google_onebyone(data[col][i])\n",
    "                if wer != -1:\n",
    "                    data[col + ' Telugu'][i] = clean_format(wer)\n",
    "                else:\n",
    "                    data[col + ' Telugu'][i] = anu_vaad_onebyone(data[col][i])\n",
    "        except Exception as e:\n",
    "            print('!'+'-'*20+'ERR')\n",
    "            print(e)\n",
    "    return data"
   ]
  },
  {
   "cell_type": "code",
   "execution_count": 12,
   "id": "cff5e33e",
   "metadata": {
    "execution": {
     "iopub.execute_input": "2022-04-30T15:38:36.936469Z",
     "iopub.status.busy": "2022-04-30T15:38:36.936192Z",
     "iopub.status.idle": "2022-04-30T15:38:37.197316Z",
     "shell.execute_reply": "2022-04-30T15:38:37.196549Z"
    },
    "papermill": {
     "duration": 0.56425,
     "end_time": "2022-04-30T15:38:37.199348",
     "exception": false,
     "start_time": "2022-04-30T15:38:36.635098",
     "status": "completed"
    },
    "tags": []
   },
   "outputs": [],
   "source": [
    "awards = pd.read_csv('/kaggle/input/padmaawards-maha/renders_awards_v4_Kaggle_out.csv',low_memory=False)\n",
    "# awards.head(10)"
   ]
  },
  {
   "cell_type": "code",
   "execution_count": 13,
   "id": "3f3d8ffa",
   "metadata": {
    "execution": {
     "iopub.execute_input": "2022-04-30T15:38:37.720689Z",
     "iopub.status.busy": "2022-04-30T15:38:37.719986Z",
     "iopub.status.idle": "2022-04-30T15:43:48.124623Z",
     "shell.execute_reply": "2022-04-30T15:43:48.123882Z"
    },
    "papermill": {
     "duration": 310.667863,
     "end_time": "2022-04-30T15:43:48.127140",
     "exception": false,
     "start_time": "2022-04-30T15:38:37.459277",
     "status": "completed"
    },
    "tags": []
   },
   "outputs": [
    {
     "name": "stderr",
     "output_type": "stream",
     "text": [
      "Main:   0%|          | 0/184 [00:00<?, ?it/s]"
     ]
    },
    {
     "name": "stdout",
     "output_type": "stream",
     "text": [
      "Start Summary\n"
     ]
    },
    {
     "name": "stderr",
     "output_type": "stream",
     "text": [
      "\n",
      "Summary:   0%|          | 0/1 [00:00<?, ?it/s]\u001b[A/opt/conda/lib/python3.7/site-packages/ipykernel_launcher.py:61: SettingWithCopyWarning: \n",
      "A value is trying to be set on a copy of a slice from a DataFrame\n",
      "\n",
      "See the caveats in the documentation: https://pandas.pydata.org/pandas-docs/stable/user_guide/indexing.html#returning-a-view-versus-a-copy\n",
      "/opt/conda/lib/python3.7/site-packages/pandas/core/indexing.py:1732: SettingWithCopyWarning: \n",
      "A value is trying to be set on a copy of a slice from a DataFrame\n",
      "\n",
      "See the caveats in the documentation: https://pandas.pydata.org/pandas-docs/stable/user_guide/indexing.html#returning-a-view-versus-a-copy\n",
      "  self._setitem_single_block(indexer, value, name)\n",
      "\n",
      "Summary: 100%|██████████| 1/1 [00:00<00:00,  5.11it/s]\n",
      "Main:   1%|          | 2/184 [00:00<00:18,  9.67it/s]"
     ]
    },
    {
     "name": "stdout",
     "output_type": "stream",
     "text": [
      "0.20639801025390625  sec\n",
      "Start career\n"
     ]
    },
    {
     "name": "stderr",
     "output_type": "stream",
     "text": [
      "\n",
      "career:   0%|          | 0/1 [00:00<?, ?it/s]\u001b[A\n",
      "career: 100%|██████████| 1/1 [00:05<00:00,  5.32s/it]\n",
      "Main:   2%|▏         | 3/184 [00:05<06:53,  2.28s/it]"
     ]
    },
    {
     "name": "stdout",
     "output_type": "stream",
     "text": [
      "5.331087827682495  sec\n",
      "Start references\n"
     ]
    },
    {
     "name": "stderr",
     "output_type": "stream",
     "text": [
      "\n",
      "references:   0%|          | 0/1 [00:00<?, ?it/s]\u001b[A\n",
      "references: 100%|██████████| 1/1 [00:01<00:00,  1.00s/it]\n",
      "Main:   2%|▏         | 4/184 [00:06<05:25,  1.81s/it]"
     ]
    },
    {
     "name": "stdout",
     "output_type": "stream",
     "text": [
      "1.0091431140899658  sec\n",
      "Start early life\n"
     ]
    },
    {
     "name": "stderr",
     "output_type": "stream",
     "text": [
      "\n",
      "early life:   0%|          | 0/1 [00:00<?, ?it/s]\u001b[A\n",
      "early life: 100%|██████████| 1/1 [00:00<00:00,  1.43it/s]\n",
      "Main:   3%|▎         | 5/184 [00:07<04:14,  1.42s/it]"
     ]
    },
    {
     "name": "stdout",
     "output_type": "stream",
     "text": [
      "0.7035431861877441  sec\n",
      "Start life\n"
     ]
    },
    {
     "name": "stderr",
     "output_type": "stream",
     "text": [
      "\n",
      "life:   0%|          | 0/1 [00:00<?, ?it/s]\u001b[A\n",
      "life: 100%|██████████| 1/1 [00:03<00:00,  3.01s/it]\n",
      "Main:   3%|▎         | 6/184 [00:10<05:47,  1.95s/it]"
     ]
    },
    {
     "name": "stdout",
     "output_type": "stream",
     "text": [
      "3.0130209922790527  sec\n",
      "Start awards\n"
     ]
    },
    {
     "name": "stderr",
     "output_type": "stream",
     "text": [
      "\n",
      "awards:   0%|          | 0/1 [00:00<?, ?it/s]\u001b[A\n",
      "awards: 100%|██████████| 1/1 [00:01<00:00,  1.00s/it]\n",
      "Main:   4%|▍         | 7/184 [00:11<04:51,  1.65s/it]"
     ]
    },
    {
     "name": "stdout",
     "output_type": "stream",
     "text": [
      "1.009192943572998  sec\n",
      "Start freedom fighter\n"
     ]
    },
    {
     "name": "stderr",
     "output_type": "stream",
     "text": [
      "\n",
      "freedom fighter: 100%|██████████| 1/1 [00:00<00:00, 2445.66it/s]\n"
     ]
    },
    {
     "name": "stdout",
     "output_type": "stream",
     "text": [
      "0.004120349884033203  sec\n",
      "Start death\n"
     ]
    },
    {
     "name": "stderr",
     "output_type": "stream",
     "text": [
      "\n",
      "death:   0%|          | 0/1 [00:00<?, ?it/s]\u001b[A\n",
      "death: 100%|██████████| 1/1 [00:03<00:00,  3.01s/it]\n",
      "Main:   5%|▍         | 9/184 [00:14<04:36,  1.58s/it]"
     ]
    },
    {
     "name": "stdout",
     "output_type": "stream",
     "text": [
      "3.010981559753418  sec\n",
      "Start filmography\n"
     ]
    },
    {
     "name": "stderr",
     "output_type": "stream",
     "text": [
      "\n",
      "filmography: 100%|██████████| 1/1 [00:00<00:00, 2906.66it/s]\n"
     ]
    },
    {
     "name": "stdout",
     "output_type": "stream",
     "text": [
      "0.004487752914428711  sec\n",
      "Start works\n"
     ]
    },
    {
     "name": "stderr",
     "output_type": "stream",
     "text": [
      "\n",
      "works:   0%|          | 0/1 [00:00<?, ?it/s]\u001b[A\n",
      "works: 100%|██████████| 1/1 [00:02<00:00,  2.00s/it]\n",
      "Main:   6%|▌         | 11/184 [00:16<03:53,  1.35s/it]"
     ]
    },
    {
     "name": "stdout",
     "output_type": "stream",
     "text": [
      "2.010556697845459  sec\n",
      "Start biography\n"
     ]
    },
    {
     "name": "stderr",
     "output_type": "stream",
     "text": [
      "\n",
      "biography:   0%|          | 0/1 [00:00<?, ?it/s]\u001b[A\n",
      "biography: 100%|██████████| 1/1 [00:03<00:00,  3.01s/it]\n",
      "Main:   7%|▋         | 12/184 [00:19<04:56,  1.72s/it]"
     ]
    },
    {
     "name": "stdout",
     "output_type": "stream",
     "text": [
      "3.0096933841705322  sec\n",
      "Start selected publications\n"
     ]
    },
    {
     "name": "stderr",
     "output_type": "stream",
     "text": [
      "\n",
      "selected publications:   0%|          | 0/1 [00:00<?, ?it/s]\u001b[A\n",
      "selected publications: 100%|██████████| 1/1 [00:02<00:00,  2.01s/it]\n",
      "Main:   7%|▋         | 13/184 [00:21<05:06,  1.79s/it]"
     ]
    },
    {
     "name": "stdout",
     "output_type": "stream",
     "text": [
      "2.0145435333251953  sec\n",
      "Start see also\n"
     ]
    },
    {
     "name": "stderr",
     "output_type": "stream",
     "text": [
      "\n",
      "see also: 100%|██████████| 1/1 [00:00<00:00, 2369.66it/s]\n"
     ]
    },
    {
     "name": "stdout",
     "output_type": "stream",
     "text": [
      "0.00817561149597168  sec\n",
      "Start awards and honours\n"
     ]
    },
    {
     "name": "stderr",
     "output_type": "stream",
     "text": [
      "\n",
      "awards and honours:   0%|          | 0/1 [00:00<?, ?it/s]\u001b[A\n",
      "awards and honours: 100%|██████████| 1/1 [00:02<00:00,  2.01s/it]\n",
      "Main:   8%|▊         | 15/184 [00:23<04:08,  1.47s/it]"
     ]
    },
    {
     "name": "stdout",
     "output_type": "stream",
     "text": [
      "2.0103561878204346  sec\n",
      "Start teaching\n"
     ]
    },
    {
     "name": "stderr",
     "output_type": "stream",
     "text": [
      "\n",
      "teaching: 100%|██████████| 1/1 [00:00<00:00, 2695.57it/s]\n"
     ]
    },
    {
     "name": "stdout",
     "output_type": "stream",
     "text": [
      "0.00526738166809082  sec\n",
      "Start philanthropy\n"
     ]
    },
    {
     "name": "stderr",
     "output_type": "stream",
     "text": [
      "\n",
      "philanthropy:   0%|          | 0/1 [00:00<?, ?it/s]\u001b[A\n",
      "philanthropy: 100%|██████████| 1/1 [00:03<00:00,  3.01s/it]\n",
      "Main:   9%|▉         | 17/184 [00:26<04:08,  1.49s/it]"
     ]
    },
    {
     "name": "stdout",
     "output_type": "stream",
     "text": [
      "3.014167070388794  sec\n",
      "Start personal life\n"
     ]
    },
    {
     "name": "stderr",
     "output_type": "stream",
     "text": [
      "\n",
      "personal life:   0%|          | 0/1 [00:00<?, ?it/s]\u001b[A\n",
      "personal life: 100%|██████████| 1/1 [00:02<00:00,  2.00s/it]\n",
      "Main:  10%|▉         | 18/184 [00:28<04:25,  1.60s/it]"
     ]
    },
    {
     "name": "stdout",
     "output_type": "stream",
     "text": [
      "2.0123097896575928  sec\n",
      "Start bibliography\n"
     ]
    },
    {
     "name": "stderr",
     "output_type": "stream",
     "text": [
      "\n",
      "bibliography:   0%|          | 0/1 [00:00<?, ?it/s]\u001b[A\n",
      "bibliography: 100%|██████████| 1/1 [00:03<00:00,  3.01s/it]\n",
      "Main:  10%|█         | 19/184 [00:31<05:17,  1.92s/it]"
     ]
    },
    {
     "name": "stdout",
     "output_type": "stream",
     "text": [
      "3.012993097305298  sec\n",
      "Start early life and education\n"
     ]
    },
    {
     "name": "stderr",
     "output_type": "stream",
     "text": [
      "\n",
      "early life and education:   0%|          | 0/1 [00:00<?, ?it/s]\u001b[A\n",
      "early life and education: 100%|██████████| 1/1 [00:03<00:00,  3.01s/it]\n",
      "Main:  11%|█         | 20/184 [00:34<05:59,  2.19s/it]"
     ]
    },
    {
     "name": "stdout",
     "output_type": "stream",
     "text": [
      "3.0122287273406982  sec\n",
      "Start writings\n"
     ]
    },
    {
     "name": "stderr",
     "output_type": "stream",
     "text": [
      "\n",
      "writings:   0%|          | 0/1 [00:00<?, ?it/s]\u001b[A\n",
      "writings: 100%|██████████| 1/1 [00:03<00:00,  3.01s/it]\n",
      "Main:  11%|█▏        | 21/184 [00:37<06:32,  2.41s/it]"
     ]
    },
    {
     "name": "stdout",
     "output_type": "stream",
     "text": [
      "3.0138142108917236  sec\n",
      "Start legacy\n"
     ]
    },
    {
     "name": "stderr",
     "output_type": "stream",
     "text": [
      "\n",
      "legacy: 100%|██████████| 1/1 [00:00<00:00, 2096.10it/s]\n"
     ]
    },
    {
     "name": "stdout",
     "output_type": "stream",
     "text": [
      "0.005245208740234375  sec\n",
      "Start discography\n"
     ]
    },
    {
     "name": "stderr",
     "output_type": "stream",
     "text": [
      "\n",
      "discography:   0%|          | 0/1 [00:00<?, ?it/s]\u001b[A\n",
      "discography: 100%|██████████| 1/1 [00:02<00:00,  2.00s/it]\n",
      "Main:  12%|█▎        | 23/184 [00:39<04:51,  1.81s/it]"
     ]
    },
    {
     "name": "stdout",
     "output_type": "stream",
     "text": [
      "2.01267147064209  sec\n",
      "Start biographies\n"
     ]
    },
    {
     "name": "stderr",
     "output_type": "stream",
     "text": [
      "\n",
      "biographies:   0%|          | 0/1 [00:00<?, ?it/s]\u001b[A\n",
      "biographies: 100%|██████████| 1/1 [00:02<00:00,  2.00s/it]\n",
      "Main:  13%|█▎        | 24/184 [00:41<04:57,  1.86s/it]"
     ]
    },
    {
     "name": "stdout",
     "output_type": "stream",
     "text": [
      "2.0098283290863037  sec\n",
      "Start external links\n"
     ]
    },
    {
     "name": "stderr",
     "output_type": "stream",
     "text": [
      "\n",
      "external links:   0%|          | 0/1 [00:00<?, ?it/s]\u001b[A\n",
      "external links: 100%|██████████| 1/1 [00:01<00:00,  1.00s/it]\n",
      "Main:  14%|█▎        | 25/184 [00:42<04:21,  1.65s/it]"
     ]
    },
    {
     "name": "stdout",
     "output_type": "stream",
     "text": [
      "1.0089452266693115  sec\n",
      "Start work\n"
     ]
    },
    {
     "name": "stderr",
     "output_type": "stream",
     "text": [
      "\n",
      "work:   0%|          | 0/1 [00:00<?, ?it/s]\u001b[A\n",
      "work: 100%|██████████| 1/1 [00:01<00:00,  1.00s/it]\n",
      "Main:  14%|█▍        | 26/184 [00:43<03:53,  1.48s/it]"
     ]
    },
    {
     "name": "stdout",
     "output_type": "stream",
     "text": [
      "1.0099830627441406  sec\n",
      "Start publications\n"
     ]
    },
    {
     "name": "stderr",
     "output_type": "stream",
     "text": [
      "\n",
      "publications: 100%|██████████| 1/1 [00:00<00:00, 1875.81it/s]\n"
     ]
    },
    {
     "name": "stdout",
     "output_type": "stream",
     "text": [
      "0.004720926284790039  sec\n",
      "Start awards and recognitions\n"
     ]
    },
    {
     "name": "stderr",
     "output_type": "stream",
     "text": [
      "\n",
      "awards and recognitions:   0%|          | 0/1 [00:00<?, ?it/s]\u001b[A\n",
      "awards and recognitions: 100%|██████████| 1/1 [00:03<00:00,  3.00s/it]\n",
      "Main:  15%|█▌        | 28/184 [00:46<03:52,  1.49s/it]"
     ]
    },
    {
     "name": "stdout",
     "output_type": "stream",
     "text": [
      "3.0113046169281006  sec\n",
      "Start further reading\n"
     ]
    },
    {
     "name": "stderr",
     "output_type": "stream",
     "text": [
      "\n",
      "further reading: 100%|██████████| 1/1 [00:00<00:00, 2068.20it/s]\n"
     ]
    },
    {
     "name": "stdout",
     "output_type": "stream",
     "text": [
      "0.005658626556396484  sec\n",
      "Start life and education\n"
     ]
    },
    {
     "name": "stderr",
     "output_type": "stream",
     "text": [
      "\n",
      "life and education:   0%|          | 0/1 [00:00<?, ?it/s]\u001b[A\n",
      "life and education: 100%|██████████| 1/1 [00:02<00:00,  2.01s/it]\n",
      "Main:  16%|█▋        | 30/184 [00:48<03:21,  1.31s/it]"
     ]
    },
    {
     "name": "stdout",
     "output_type": "stream",
     "text": [
      "2.010143518447876  sec\n",
      "Start academic career\n"
     ]
    },
    {
     "name": "stderr",
     "output_type": "stream",
     "text": [
      "\n",
      "academic career:   0%|          | 0/1 [00:00<?, ?it/s]\u001b[A\n",
      "academic career: 100%|██████████| 1/1 [00:02<00:00,  2.01s/it]\n",
      "Main:  17%|█▋        | 31/184 [00:50<03:43,  1.46s/it]"
     ]
    },
    {
     "name": "stdout",
     "output_type": "stream",
     "text": [
      "2.0095527172088623  sec\n",
      "Start political views\n"
     ]
    },
    {
     "name": "stderr",
     "output_type": "stream",
     "text": [
      "\n",
      "political views:   0%|          | 0/1 [00:00<?, ?it/s]\u001b[A\n",
      "political views: 100%|██████████| 1/1 [00:03<00:00,  3.01s/it]\n",
      "Main:  17%|█▋        | 32/184 [00:53<04:36,  1.82s/it]"
     ]
    },
    {
     "name": "stdout",
     "output_type": "stream",
     "text": [
      "3.00950288772583  sec\n",
      "Start books\n"
     ]
    },
    {
     "name": "stderr",
     "output_type": "stream",
     "text": [
      "\n",
      "books: 100%|██████████| 1/1 [00:00<00:00, 2504.06it/s]\n"
     ]
    },
    {
     "name": "stdout",
     "output_type": "stream",
     "text": [
      "0.004789829254150391  sec\n",
      "Start early life and background\n"
     ]
    },
    {
     "name": "stderr",
     "output_type": "stream",
     "text": [
      "\n",
      "early life and background:   0%|          | 0/1 [00:00<?, ?it/s]\u001b[A\n",
      "early life and background: 100%|██████████| 1/1 [00:01<00:00,  1.00s/it]\n",
      "Main:  18%|█▊        | 34/184 [00:54<03:14,  1.29s/it]"
     ]
    },
    {
     "name": "stdout",
     "output_type": "stream",
     "text": [
      "1.0085170269012451  sec\n",
      "Start acting career\n"
     ]
    },
    {
     "name": "stderr",
     "output_type": "stream",
     "text": [
      "\n",
      "acting career:   0%|          | 0/1 [00:00<?, ?it/s]\u001b[A\n",
      "acting career: 100%|██████████| 1/1 [00:01<00:00,  1.01s/it]\n",
      "Main:  19%|█▉        | 35/184 [00:55<03:03,  1.23s/it]"
     ]
    },
    {
     "name": "stdout",
     "output_type": "stream",
     "text": [
      "1.0116245746612549  sec\n",
      "Start television career\n"
     ]
    },
    {
     "name": "stderr",
     "output_type": "stream",
     "text": [
      "\n",
      "television career: 100%|██████████| 1/1 [00:00<00:00, 3102.30it/s]\n"
     ]
    },
    {
     "name": "stdout",
     "output_type": "stream",
     "text": [
      "0.006608486175537109  sec\n",
      "Start in the media\n"
     ]
    },
    {
     "name": "stderr",
     "output_type": "stream",
     "text": [
      "\n",
      "in the media:   0%|          | 0/1 [00:00<?, ?it/s]\u001b[A\n",
      "in the media: 100%|██████████| 1/1 [00:02<00:00,  2.01s/it]\n",
      "Main:  20%|██        | 37/184 [00:57<02:48,  1.15s/it]"
     ]
    },
    {
     "name": "stdout",
     "output_type": "stream",
     "text": [
      "2.0126566886901855  sec\n",
      "Start politics\n"
     ]
    },
    {
     "name": "stderr",
     "output_type": "stream",
     "text": [
      "\n",
      "politics:   0%|          | 0/1 [00:00<?, ?it/s]\u001b[A\n",
      "politics: 100%|██████████| 1/1 [00:03<00:00,  3.01s/it]\n",
      "Main:  21%|██        | 38/184 [01:00<03:46,  1.55s/it]"
     ]
    },
    {
     "name": "stdout",
     "output_type": "stream",
     "text": [
      "3.0098989009857178  sec\n",
      "Start activism\n"
     ]
    },
    {
     "name": "stderr",
     "output_type": "stream",
     "text": [
      "\n",
      "activism: 100%|██████████| 1/1 [00:00<00:00, 2898.62it/s]\n"
     ]
    },
    {
     "name": "stdout",
     "output_type": "stream",
     "text": [
      "0.004651546478271484  sec\n",
      "Start early life and career\n"
     ]
    },
    {
     "name": "stderr",
     "output_type": "stream",
     "text": [
      "\n",
      "early life and career:   0%|          | 0/1 [00:00<?, ?it/s]\u001b[A\n",
      "early life and career: 100%|██████████| 1/1 [00:02<00:00,  2.01s/it]\n",
      "Main:  22%|██▏       | 40/184 [01:02<03:13,  1.34s/it]"
     ]
    },
    {
     "name": "stdout",
     "output_type": "stream",
     "text": [
      "2.0108442306518555  sec\n",
      "Start awards and recognition\n"
     ]
    },
    {
     "name": "stderr",
     "output_type": "stream",
     "text": [
      "\n",
      "awards and recognition:   0%|          | 0/1 [00:00<?, ?it/s]\u001b[A\n",
      "awards and recognition: 100%|██████████| 1/1 [00:02<00:00,  2.01s/it]\n",
      "Main:  22%|██▏       | 41/184 [01:04<03:32,  1.49s/it]"
     ]
    },
    {
     "name": "stdout",
     "output_type": "stream",
     "text": [
      "2.009371757507324  sec\n",
      "Start awards and accolades\n"
     ]
    },
    {
     "name": "stderr",
     "output_type": "stream",
     "text": [
      "\n",
      "awards and accolades: 100%|██████████| 1/1 [00:00<00:00, 3292.23it/s]\n"
     ]
    },
    {
     "name": "stdout",
     "output_type": "stream",
     "text": [
      "0.004156351089477539  sec\n",
      "Start selected works\n"
     ]
    },
    {
     "name": "stderr",
     "output_type": "stream",
     "text": [
      "\n",
      "selected works: 100%|██████████| 1/1 [00:00<00:00, 2303.30it/s]\n"
     ]
    },
    {
     "name": "stdout",
     "output_type": "stream",
     "text": [
      "0.006212711334228516  sec\n",
      "Start recognition\n"
     ]
    },
    {
     "name": "stderr",
     "output_type": "stream",
     "text": [
      "\n",
      "recognition:   0%|          | 0/1 [00:00<?, ?it/s]\u001b[A\n",
      "recognition: 100%|██████████| 1/1 [00:01<00:00,  1.00s/it]\n",
      "Main:  24%|██▍       | 44/184 [01:05<02:11,  1.07it/s]"
     ]
    },
    {
     "name": "stdout",
     "output_type": "stream",
     "text": [
      "1.008263349533081  sec\n",
      "Start education and career\n"
     ]
    },
    {
     "name": "stderr",
     "output_type": "stream",
     "text": [
      "\n",
      "education and career:   0%|          | 0/1 [00:00<?, ?it/s]\u001b[A\n",
      "education and career: 100%|██████████| 1/1 [00:02<00:00,  2.01s/it]\n",
      "Main:  24%|██▍       | 45/184 [01:07<02:38,  1.14s/it]"
     ]
    },
    {
     "name": "stdout",
     "output_type": "stream",
     "text": [
      "2.011420249938965  sec\n",
      "Start philosophy\n"
     ]
    },
    {
     "name": "stderr",
     "output_type": "stream",
     "text": [
      "\n",
      "philosophy:   0%|          | 0/1 [00:00<?, ?it/s]\u001b[A\n",
      "philosophy: 100%|██████████| 1/1 [00:02<00:00,  2.01s/it]\n",
      "Main:  25%|██▌       | 46/184 [01:09<03:02,  1.32s/it]"
     ]
    },
    {
     "name": "stdout",
     "output_type": "stream",
     "text": [
      "2.0109152793884277  sec\n",
      "Start honours\n"
     ]
    },
    {
     "name": "stderr",
     "output_type": "stream",
     "text": [
      "\n",
      "honours: 100%|██████████| 1/1 [00:00<00:00, 3057.07it/s]\n"
     ]
    },
    {
     "name": "stdout",
     "output_type": "stream",
     "text": [
      "0.004561424255371094  sec\n",
      "Start positions held\n"
     ]
    },
    {
     "name": "stderr",
     "output_type": "stream",
     "text": [
      "\n",
      "positions held:   0%|          | 0/1 [00:00<?, ?it/s]\u001b[A\n",
      "positions held: 100%|██████████| 1/1 [00:01<00:00,  1.01s/it]\n",
      "Main:  26%|██▌       | 48/184 [01:10<02:18,  1.02s/it]"
     ]
    },
    {
     "name": "stdout",
     "output_type": "stream",
     "text": [
      "1.0128118991851807  sec\n",
      "Start notes\n"
     ]
    },
    {
     "name": "stderr",
     "output_type": "stream",
     "text": [
      "\n",
      "notes:   0%|          | 0/1 [00:00<?, ?it/s]\u001b[A\n",
      "notes: 100%|██████████| 1/1 [00:02<00:00,  2.01s/it]\n",
      "Main:  27%|██▋       | 49/184 [01:12<02:45,  1.23s/it]"
     ]
    },
    {
     "name": "stdout",
     "output_type": "stream",
     "text": [
      "2.015768051147461  sec\n",
      "Start posts held\n"
     ]
    },
    {
     "name": "stderr",
     "output_type": "stream",
     "text": [
      "\n",
      "posts held:   0%|          | 0/1 [00:00<?, ?it/s]\u001b[A\n",
      "posts held: 100%|██████████| 1/1 [00:02<00:00,  2.01s/it]\n",
      "Main:  27%|██▋       | 50/184 [01:14<03:08,  1.41s/it]"
     ]
    },
    {
     "name": "stdout",
     "output_type": "stream",
     "text": [
      "2.0134365558624268  sec\n",
      "Start later years\n"
     ]
    },
    {
     "name": "stderr",
     "output_type": "stream",
     "text": [
      "\n",
      "later years:   0%|          | 0/1 [00:00<?, ?it/s]\u001b[A\n",
      "later years: 100%|██████████| 1/1 [00:02<00:00,  2.01s/it]\n",
      "Main:  28%|██▊       | 51/184 [01:16<03:27,  1.56s/it]"
     ]
    },
    {
     "name": "stdout",
     "output_type": "stream",
     "text": [
      "2.012462854385376  sec\n",
      "Start disciples\n"
     ]
    },
    {
     "name": "stderr",
     "output_type": "stream",
     "text": [
      "\n",
      "disciples:   0%|          | 0/1 [00:00<?, ?it/s]\u001b[A\n",
      "disciples: 100%|██████████| 1/1 [00:02<00:00,  2.01s/it]\n",
      "Main:  28%|██▊       | 52/184 [01:18<03:41,  1.68s/it]"
     ]
    },
    {
     "name": "stdout",
     "output_type": "stream",
     "text": [
      "2.012862205505371  sec\n",
      "Start death and legacy\n"
     ]
    },
    {
     "name": "stderr",
     "output_type": "stream",
     "text": [
      "\n",
      "death and legacy:   0%|          | 0/1 [00:00<?, ?it/s]\u001b[A\n",
      "death and legacy: 100%|██████████| 1/1 [00:02<00:00,  2.00s/it]\n",
      "Main:  29%|██▉       | 53/184 [01:20<03:51,  1.77s/it]"
     ]
    },
    {
     "name": "stdout",
     "output_type": "stream",
     "text": [
      "2.0094499588012695  sec\n",
      "Start achievements\n"
     ]
    },
    {
     "name": "stderr",
     "output_type": "stream",
     "text": [
      "\n",
      "achievements:   0%|          | 0/1 [00:00<?, ?it/s]\u001b[A\n",
      "achievements: 100%|██████████| 1/1 [00:03<00:00,  3.01s/it]\n",
      "Main:  29%|██▉       | 54/184 [01:23<04:35,  2.12s/it]"
     ]
    },
    {
     "name": "stdout",
     "output_type": "stream",
     "text": [
      "3.014780282974243  sec\n",
      "Start singing career\n"
     ]
    },
    {
     "name": "stderr",
     "output_type": "stream",
     "text": [
      "\n",
      "singing career:   0%|          | 0/1 [00:00<?, ?it/s]\u001b[A\n",
      "singing career: 100%|██████████| 1/1 [00:03<00:00,  3.01s/it]\n",
      "Main:  30%|██▉       | 55/184 [01:26<05:06,  2.37s/it]"
     ]
    },
    {
     "name": "stdout",
     "output_type": "stream",
     "text": [
      "3.0118446350097656  sec\n",
      "Start films\n"
     ]
    },
    {
     "name": "stderr",
     "output_type": "stream",
     "text": [
      "\n",
      "films:   0%|          | 0/1 [00:00<?, ?it/s]\u001b[A\n",
      "films: 100%|██████████| 1/1 [00:02<00:00,  2.01s/it]\n",
      "Main:  30%|███       | 56/184 [01:28<04:50,  2.27s/it]"
     ]
    },
    {
     "name": "stdout",
     "output_type": "stream",
     "text": [
      "2.0141427516937256  sec\n",
      "Start education\n"
     ]
    },
    {
     "name": "stderr",
     "output_type": "stream",
     "text": [
      "\n",
      "education:   0%|          | 0/1 [00:00<?, ?it/s]\u001b[A\n",
      "education: 100%|██████████| 1/1 [00:03<00:00,  3.01s/it]\n",
      "Main:  31%|███       | 57/184 [01:31<05:15,  2.49s/it]"
     ]
    },
    {
     "name": "stdout",
     "output_type": "stream",
     "text": [
      "3.0110855102539062  sec\n",
      "Start contributions\n"
     ]
    },
    {
     "name": "stderr",
     "output_type": "stream",
     "text": [
      "\n",
      "contributions:   0%|          | 0/1 [00:00<?, ?it/s]\u001b[A\n",
      "contributions: 100%|██████████| 1/1 [00:02<00:00,  2.01s/it]\n",
      "Main:  32%|███▏      | 58/184 [01:33<04:55,  2.35s/it]"
     ]
    },
    {
     "name": "stdout",
     "output_type": "stream",
     "text": [
      "2.0093448162078857  sec\n",
      "Start early life and family\n"
     ]
    },
    {
     "name": "stderr",
     "output_type": "stream",
     "text": [
      "\n",
      "early life and family: 100%|██████████| 1/1 [00:00<00:00, 2792.48it/s]\n"
     ]
    },
    {
     "name": "stdout",
     "output_type": "stream",
     "text": [
      "0.007535219192504883  sec\n",
      "Start honours and awards\n"
     ]
    },
    {
     "name": "stderr",
     "output_type": "stream",
     "text": [
      "\n",
      "honours and awards:   0%|          | 0/1 [00:00<?, ?it/s]\u001b[A\n",
      "honours and awards: 100%|██████████| 1/1 [00:01<00:00,  1.00s/it]\n",
      "Main:  33%|███▎      | 60/184 [01:34<03:06,  1.51s/it]"
     ]
    },
    {
     "name": "stdout",
     "output_type": "stream",
     "text": [
      "1.0081791877746582  sec\n",
      "Start awards and honors\n"
     ]
    },
    {
     "name": "stderr",
     "output_type": "stream",
     "text": [
      "\n",
      "awards and honors:   0%|          | 0/1 [00:00<?, ?it/s]\u001b[A\n",
      "awards and honors: 100%|██████████| 1/1 [00:03<00:00,  3.01s/it]\n",
      "Main:  33%|███▎      | 61/184 [01:37<03:50,  1.88s/it]"
     ]
    },
    {
     "name": "stdout",
     "output_type": "stream",
     "text": [
      "3.0129024982452393  sec\n",
      "Start literary career\n"
     ]
    },
    {
     "name": "stderr",
     "output_type": "stream",
     "text": [
      "\n",
      "literary career:   0%|          | 0/1 [00:00<?, ?it/s]\u001b[A\n",
      "literary career: 100%|██████████| 1/1 [00:02<00:00,  2.01s/it]\n",
      "Main:  34%|███▎      | 62/184 [01:39<03:53,  1.91s/it]"
     ]
    },
    {
     "name": "stdout",
     "output_type": "stream",
     "text": [
      "2.012887716293335  sec\n",
      "Start film career\n"
     ]
    },
    {
     "name": "stderr",
     "output_type": "stream",
     "text": [
      "\n",
      "film career: 100%|██████████| 1/1 [00:00<00:00, 2130.17it/s]\n"
     ]
    },
    {
     "name": "stdout",
     "output_type": "stream",
     "text": [
      "0.0068035125732421875  sec\n",
      "Start awards and nominations\n"
     ]
    },
    {
     "name": "stderr",
     "output_type": "stream",
     "text": [
      "\n",
      "awards and nominations:   0%|          | 0/1 [00:00<?, ?it/s]\u001b[A\n",
      "awards and nominations: 100%|██████████| 1/1 [00:01<00:00,  1.00s/it]\n",
      "Main:  35%|███▍      | 64/184 [01:40<02:37,  1.31s/it]"
     ]
    },
    {
     "name": "stdout",
     "output_type": "stream",
     "text": [
      "1.0087175369262695  sec\n",
      "Start in popular culture\n"
     ]
    },
    {
     "name": "stderr",
     "output_type": "stream",
     "text": [
      "\n",
      "in popular culture:   0%|          | 0/1 [00:00<?, ?it/s]\u001b[A\n",
      "in popular culture: 100%|██████████| 1/1 [00:03<00:00,  3.01s/it]\n",
      "Main:  35%|███▌      | 65/184 [01:43<03:23,  1.71s/it]"
     ]
    },
    {
     "name": "stdout",
     "output_type": "stream",
     "text": [
      "3.0128743648529053  sec\n",
      "Start illness and death\n"
     ]
    },
    {
     "name": "stderr",
     "output_type": "stream",
     "text": [
      "\n",
      "illness and death:   0%|          | 0/1 [00:00<?, ?it/s]\u001b[A\n",
      "illness and death: 100%|██████████| 1/1 [00:01<00:00,  1.00s/it]\n",
      "Main:  36%|███▌      | 66/184 [01:44<03:01,  1.54s/it]"
     ]
    },
    {
     "name": "stdout",
     "output_type": "stream",
     "text": [
      "1.0105700492858887  sec\n",
      "Start literature\n"
     ]
    },
    {
     "name": "stderr",
     "output_type": "stream",
     "text": [
      "\n",
      "literature:   0%|          | 0/1 [00:00<?, ?it/s]\u001b[A\n",
      "literature: 100%|██████████| 1/1 [00:02<00:00,  2.00s/it]\n",
      "Main:  36%|███▋      | 67/184 [01:46<03:14,  1.66s/it]"
     ]
    },
    {
     "name": "stdout",
     "output_type": "stream",
     "text": [
      "2.010549783706665  sec\n",
      "Start personal life and education\n"
     ]
    },
    {
     "name": "stderr",
     "output_type": "stream",
     "text": [
      "\n",
      "personal life and education: 100%|██████████| 1/1 [00:00<00:00, 2685.21it/s]\n"
     ]
    },
    {
     "name": "stdout",
     "output_type": "stream",
     "text": [
      "0.008093595504760742  sec\n",
      "Start poetry\n"
     ]
    },
    {
     "name": "stderr",
     "output_type": "stream",
     "text": [
      "\n",
      "poetry:   0%|          | 0/1 [00:00<?, ?it/s]\u001b[A\n",
      "poetry: 100%|██████████| 1/1 [00:01<00:00,  1.00s/it]\n",
      "Main:  38%|███▊      | 69/184 [01:47<02:14,  1.17s/it]"
     ]
    },
    {
     "name": "stdout",
     "output_type": "stream",
     "text": [
      "1.0082461833953857  sec\n",
      "Start family\n"
     ]
    },
    {
     "name": "stderr",
     "output_type": "stream",
     "text": [
      "\n",
      "family:   0%|          | 0/1 [00:00<?, ?it/s]\u001b[A\n",
      "family: 100%|██████████| 1/1 [00:03<00:00,  3.01s/it]\n",
      "Main:  38%|███▊      | 70/184 [01:50<03:02,  1.60s/it]"
     ]
    },
    {
     "name": "stdout",
     "output_type": "stream",
     "text": [
      "3.011575222015381  sec\n",
      "Start early career\n"
     ]
    },
    {
     "name": "stderr",
     "output_type": "stream",
     "text": [
      "\n",
      "early career:   0%|          | 0/1 [00:00<?, ?it/s]\u001b[A\n",
      "early career: 100%|██████████| 1/1 [00:03<00:00,  3.01s/it]\n",
      "Main:  39%|███▊      | 71/184 [01:53<03:40,  1.95s/it]"
     ]
    },
    {
     "name": "stdout",
     "output_type": "stream",
     "text": [
      "3.0108752250671387  sec\n",
      "Start political career\n"
     ]
    },
    {
     "name": "stderr",
     "output_type": "stream",
     "text": [
      "\n",
      "political career:   0%|          | 0/1 [00:00<?, ?it/s]\u001b[A\n",
      "political career: 100%|██████████| 1/1 [00:02<00:00,  2.01s/it]\n",
      "Main:  39%|███▉      | 72/184 [01:55<03:40,  1.97s/it]"
     ]
    },
    {
     "name": "stdout",
     "output_type": "stream",
     "text": [
      "2.0134973526000977  sec\n",
      "Start positions\n"
     ]
    },
    {
     "name": "stderr",
     "output_type": "stream",
     "text": [
      "\n",
      "positions:   0%|          | 0/1 [00:00<?, ?it/s]\u001b[A\n",
      "positions: 100%|██████████| 1/1 [00:01<00:00,  1.01s/it]\n",
      "Main:  40%|███▉      | 73/184 [01:57<03:09,  1.71s/it]"
     ]
    },
    {
     "name": "stdout",
     "output_type": "stream",
     "text": [
      "1.0136182308197021  sec\n",
      "Start other work\n"
     ]
    },
    {
     "name": "stderr",
     "output_type": "stream",
     "text": [
      "\n",
      "other work:   0%|          | 0/1 [00:00<?, ?it/s]\u001b[A\n",
      "other work: 100%|██████████| 1/1 [00:01<00:00,  1.00s/it]\n",
      "Main:  40%|████      | 74/184 [01:58<02:46,  1.51s/it]"
     ]
    },
    {
     "name": "stdout",
     "output_type": "stream",
     "text": [
      "1.0077126026153564  sec\n",
      "Start honors and awards\n"
     ]
    },
    {
     "name": "stderr",
     "output_type": "stream",
     "text": [
      "\n",
      "honors and awards:   0%|          | 0/1 [00:00<?, ?it/s]\u001b[A\n",
      "honors and awards: 100%|██████████| 1/1 [00:01<00:00,  1.01s/it]\n",
      "Main:  41%|████      | 75/184 [01:59<02:29,  1.37s/it]"
     ]
    },
    {
     "name": "stdout",
     "output_type": "stream",
     "text": [
      "1.0118727684020996  sec\n",
      "Start literary work\n"
     ]
    },
    {
     "name": "stderr",
     "output_type": "stream",
     "text": [
      "\n",
      "literary work:   0%|          | 0/1 [00:00<?, ?it/s]\u001b[A\n",
      "literary work: 100%|██████████| 1/1 [00:01<00:00,  1.00s/it]\n",
      "Main:  41%|████▏     | 76/184 [02:00<02:16,  1.26s/it]"
     ]
    },
    {
     "name": "stdout",
     "output_type": "stream",
     "text": [
      "1.0082015991210938  sec\n",
      "Start honors\n"
     ]
    },
    {
     "name": "stderr",
     "output_type": "stream",
     "text": [
      "\n",
      "honors:   0%|          | 0/1 [00:00<?, ?it/s]\u001b[A\n",
      "honors: 100%|██████████| 1/1 [00:01<00:00,  1.01s/it]\n",
      "Main:  42%|████▏     | 77/184 [02:01<02:07,  1.19s/it]"
     ]
    },
    {
     "name": "stdout",
     "output_type": "stream",
     "text": [
      "1.011277198791504  sec\n",
      "Start controversies\n"
     ]
    },
    {
     "name": "stderr",
     "output_type": "stream",
     "text": [
      "\n",
      "controversies:   0%|          | 0/1 [00:00<?, ?it/s]\u001b[A\n",
      "controversies: 100%|██████████| 1/1 [00:02<00:00,  2.00s/it]\n",
      "Main:  42%|████▏     | 78/184 [02:03<02:31,  1.43s/it]"
     ]
    },
    {
     "name": "stdout",
     "output_type": "stream",
     "text": [
      "2.0099854469299316  sec\n",
      "Start social activism\n"
     ]
    },
    {
     "name": "stderr",
     "output_type": "stream",
     "text": [
      "\n",
      "social activism:   0%|          | 0/1 [00:00<?, ?it/s]\u001b[A\n",
      "social activism: 100%|██████████| 1/1 [00:03<00:00,  3.01s/it]\n",
      "Main:  43%|████▎     | 79/184 [02:06<03:19,  1.90s/it]"
     ]
    },
    {
     "name": "stdout",
     "output_type": "stream",
     "text": [
      "3.0104482173919678  sec\n",
      "Start controversy\n"
     ]
    },
    {
     "name": "stderr",
     "output_type": "stream",
     "text": [
      "\n",
      "controversy: 100%|██████████| 1/1 [00:00<00:00, 2716.52it/s]\n"
     ]
    },
    {
     "name": "stdout",
     "output_type": "stream",
     "text": [
      "0.004266023635864258  sec\n",
      "Start coaching career\n"
     ]
    },
    {
     "name": "stderr",
     "output_type": "stream",
     "text": [
      "\n",
      "coaching career:   0%|          | 0/1 [00:00<?, ?it/s]\u001b[A\n",
      "coaching career: 100%|██████████| 1/1 [00:03<00:00,  3.01s/it]\n",
      "Main:  44%|████▍     | 81/184 [02:09<02:57,  1.72s/it]"
     ]
    },
    {
     "name": "stdout",
     "output_type": "stream",
     "text": [
      "3.009986639022827  sec\n",
      "Start records\n"
     ]
    },
    {
     "name": "stderr",
     "output_type": "stream",
     "text": [
      "\n",
      "records:   0%|          | 0/1 [00:00<?, ?it/s]\u001b[A\n",
      "records: 100%|██████████| 1/1 [00:02<00:00,  2.01s/it]\n",
      "Main:  45%|████▍     | 82/184 [02:11<03:02,  1.79s/it]"
     ]
    },
    {
     "name": "stdout",
     "output_type": "stream",
     "text": [
      "2.0155155658721924  sec\n",
      "Start exhibitions\n"
     ]
    },
    {
     "name": "stderr",
     "output_type": "stream",
     "text": [
      "\n",
      "exhibitions:   0%|          | 0/1 [00:00<?, ?it/s]\u001b[A\n",
      "exhibitions: 100%|██████████| 1/1 [00:01<00:00,  1.00s/it]\n",
      "Main:  45%|████▌     | 83/184 [02:12<02:40,  1.59s/it]"
     ]
    },
    {
     "name": "stdout",
     "output_type": "stream",
     "text": [
      "1.0095758438110352  sec\n",
      "Start collections\n"
     ]
    },
    {
     "name": "stderr",
     "output_type": "stream",
     "text": [
      "\n",
      "collections: 100%|██████████| 1/1 [00:00<00:00, 1945.41it/s]\n"
     ]
    },
    {
     "name": "stdout",
     "output_type": "stream",
     "text": [
      "0.006063222885131836  sec\n",
      "Start literary works\n"
     ]
    },
    {
     "name": "stderr",
     "output_type": "stream",
     "text": [
      "\n",
      "literary works:   0%|          | 0/1 [00:00<?, ?it/s]\u001b[A\n",
      "literary works: 100%|██████████| 1/1 [00:03<00:00,  3.01s/it]\n",
      "Main:  46%|████▌     | 85/184 [02:15<02:33,  1.56s/it]"
     ]
    },
    {
     "name": "stdout",
     "output_type": "stream",
     "text": [
      "3.0123848915100098  sec\n",
      "Start later life\n"
     ]
    },
    {
     "name": "stderr",
     "output_type": "stream",
     "text": [
      "\n",
      "later life:   0%|          | 0/1 [00:00<?, ?it/s]\u001b[A\n",
      "later life: 100%|██████████| 1/1 [00:01<00:00,  1.01s/it]\n",
      "Main:  47%|████▋     | 86/184 [02:16<02:20,  1.43s/it]"
     ]
    },
    {
     "name": "stdout",
     "output_type": "stream",
     "text": [
      "1.0143625736236572  sec\n",
      "Start professional career\n"
     ]
    },
    {
     "name": "stderr",
     "output_type": "stream",
     "text": [
      "\n",
      "professional career:   0%|          | 0/1 [00:00<?, ?it/s]\u001b[A\n",
      "professional career: 100%|██████████| 1/1 [00:01<00:00,  1.01s/it]\n",
      "Main:  47%|████▋     | 87/184 [02:17<02:08,  1.33s/it]"
     ]
    },
    {
     "name": "stdout",
     "output_type": "stream",
     "text": [
      "1.0164024829864502  sec\n",
      "Start domestic career\n"
     ]
    },
    {
     "name": "stderr",
     "output_type": "stream",
     "text": [
      "\n",
      "domestic career:   0%|          | 0/1 [00:00<?, ?it/s]\u001b[A\n",
      "domestic career: 100%|██████████| 1/1 [00:03<00:00,  3.01s/it]\n",
      "Main:  48%|████▊     | 88/184 [02:20<02:50,  1.77s/it]"
     ]
    },
    {
     "name": "stdout",
     "output_type": "stream",
     "text": [
      "3.0126068592071533  sec\n",
      "Start award\n"
     ]
    },
    {
     "name": "stderr",
     "output_type": "stream",
     "text": [
      "\n",
      "award:   0%|          | 0/1 [00:00<?, ?it/s]\u001b[A\n",
      "award: 100%|██████████| 1/1 [00:02<00:00,  2.01s/it]\n",
      "Main:  48%|████▊     | 89/184 [02:22<02:54,  1.84s/it]"
     ]
    },
    {
     "name": "stdout",
     "output_type": "stream",
     "text": [
      "2.0112924575805664  sec\n",
      "Start sources\n"
     ]
    },
    {
     "name": "stderr",
     "output_type": "stream",
     "text": [
      "\n",
      "sources:   0%|          | 0/1 [00:00<?, ?it/s]\u001b[A\n",
      "sources: 100%|██████████| 1/1 [00:02<00:00,  2.01s/it]\n",
      "Main:  49%|████▉     | 90/184 [02:24<02:57,  1.89s/it]"
     ]
    },
    {
     "name": "stdout",
     "output_type": "stream",
     "text": [
      "2.0137054920196533  sec\n",
      "Start life sketch\n"
     ]
    },
    {
     "name": "stderr",
     "output_type": "stream",
     "text": [
      "\n",
      "life sketch:   0%|          | 0/1 [00:00<?, ?it/s]\u001b[A\n",
      "life sketch: 100%|██████████| 1/1 [00:02<00:00,  2.00s/it]\n",
      "Main:  49%|████▉     | 91/184 [02:26<02:58,  1.92s/it]"
     ]
    },
    {
     "name": "stdout",
     "output_type": "stream",
     "text": [
      "2.0092923641204834  sec\n",
      "Start military career\n"
     ]
    },
    {
     "name": "stderr",
     "output_type": "stream",
     "text": [
      "\n",
      "military career:   0%|          | 0/1 [00:00<?, ?it/s]\u001b[A\n",
      "military career: 100%|██████████| 1/1 [00:03<00:00,  3.01s/it]\n",
      "Main:  50%|█████     | 92/184 [02:29<03:25,  2.24s/it]"
     ]
    },
    {
     "name": "stdout",
     "output_type": "stream",
     "text": [
      "3.0095062255859375  sec\n",
      "Start later years and death\n"
     ]
    },
    {
     "name": "stderr",
     "output_type": "stream",
     "text": [
      "\n",
      "later years and death: 100%|██████████| 1/1 [00:00<00:00, 2086.72it/s]\n"
     ]
    },
    {
     "name": "stdout",
     "output_type": "stream",
     "text": [
      "0.005771160125732422  sec\n",
      "Start awards and decorations\n"
     ]
    },
    {
     "name": "stderr",
     "output_type": "stream",
     "text": [
      "\n",
      "awards and decorations:   0%|          | 0/1 [00:00<?, ?it/s]\u001b[A\n",
      "awards and decorations: 100%|██████████| 1/1 [00:01<00:00,  1.00s/it]\n",
      "Main:  51%|█████     | 94/184 [02:30<02:10,  1.45s/it]"
     ]
    },
    {
     "name": "stdout",
     "output_type": "stream",
     "text": [
      "1.009760856628418  sec\n",
      "Start dates of rank\n"
     ]
    },
    {
     "name": "stderr",
     "output_type": "stream",
     "text": [
      "\n",
      "dates of rank:   0%|          | 0/1 [00:00<?, ?it/s]\u001b[A\n",
      "dates of rank: 100%|██████████| 1/1 [00:03<00:00,  3.01s/it]\n",
      "Main:  52%|█████▏    | 95/184 [02:33<02:43,  1.84s/it]"
     ]
    },
    {
     "name": "stdout",
     "output_type": "stream",
     "text": [
      "3.0134613513946533  sec\n",
      "Start selected bibliography\n"
     ]
    },
    {
     "name": "stderr",
     "output_type": "stream",
     "text": [
      "\n",
      "selected bibliography:   0%|          | 0/1 [00:00<?, ?it/s]\u001b[A\n",
      "selected bibliography: 100%|██████████| 1/1 [00:03<00:00,  3.01s/it]\n",
      "Main:  52%|█████▏    | 96/184 [02:36<03:08,  2.14s/it]"
     ]
    },
    {
     "name": "stdout",
     "output_type": "stream",
     "text": [
      "3.019665002822876  sec\n",
      "Start training\n"
     ]
    },
    {
     "name": "stderr",
     "output_type": "stream",
     "text": [
      "\n",
      "training:   0%|          | 0/1 [00:00<?, ?it/s]\u001b[A\n",
      "training: 100%|██████████| 1/1 [00:03<00:00,  3.01s/it]\n",
      "Main:  53%|█████▎    | 97/184 [02:39<03:26,  2.38s/it]"
     ]
    },
    {
     "name": "stdout",
     "output_type": "stream",
     "text": [
      "3.0125253200531006  sec\n",
      "Start music career\n"
     ]
    },
    {
     "name": "stderr",
     "output_type": "stream",
     "text": [
      "\n",
      "music career:   0%|          | 0/1 [00:00<?, ?it/s]\u001b[A\n",
      "music career: 100%|██████████| 1/1 [00:03<00:00,  3.01s/it]\n",
      "Main:  53%|█████▎    | 98/184 [02:42<03:39,  2.55s/it]"
     ]
    },
    {
     "name": "stdout",
     "output_type": "stream",
     "text": [
      "3.0107614994049072  sec\n",
      "Start research\n"
     ]
    },
    {
     "name": "stderr",
     "output_type": "stream",
     "text": [
      "\n",
      "research:   0%|          | 0/1 [00:00<?, ?it/s]\u001b[A\n",
      "research: 100%|██████████| 1/1 [00:02<00:00,  2.01s/it]\n",
      "Main:  54%|█████▍    | 99/184 [02:44<03:24,  2.40s/it]"
     ]
    },
    {
     "name": "stdout",
     "output_type": "stream",
     "text": [
      "2.01120924949646  sec\n",
      "Start recognitions\n"
     ]
    },
    {
     "name": "stderr",
     "output_type": "stream",
     "text": [
      "\n",
      "recognitions:   0%|          | 0/1 [00:00<?, ?it/s]\u001b[A\n",
      "recognitions: 100%|██████████| 1/1 [00:03<00:00,  3.01s/it]\n",
      "Main:  54%|█████▍    | 100/184 [02:47<03:36,  2.58s/it]/opt/conda/lib/python3.7/site-packages/ipykernel_launcher.py:54: PerformanceWarning: DataFrame is highly fragmented.  This is usually the result of calling `frame.insert` many times, which has poor performance.  Consider joining all columns at once using pd.concat(axis=1) instead.  To get a de-fragmented frame, use `newframe = frame.copy()`\n"
     ]
    },
    {
     "name": "stdout",
     "output_type": "stream",
     "text": [
      "3.010166645050049  sec\n",
      "Start life and career\n"
     ]
    },
    {
     "name": "stderr",
     "output_type": "stream",
     "text": [
      "\n",
      "life and career:   0%|          | 0/1 [00:00<?, ?it/s]\u001b[A\n",
      "life and career: 100%|██████████| 1/1 [00:02<00:00,  2.00s/it]\n",
      "Main:  55%|█████▍    | 101/184 [02:49<03:20,  2.41s/it]"
     ]
    },
    {
     "name": "stdout",
     "output_type": "stream",
     "text": [
      "2.010631799697876  sec\n",
      "Start published works\n"
     ]
    },
    {
     "name": "stderr",
     "output_type": "stream",
     "text": [
      "\n",
      "published works:   0%|          | 0/1 [00:00<?, ?it/s]\u001b[A\n",
      "published works: 100%|██████████| 1/1 [00:01<00:00,  1.00s/it]\n",
      "Main:  55%|█████▌    | 102/184 [02:50<02:43,  2.00s/it]"
     ]
    },
    {
     "name": "stdout",
     "output_type": "stream",
     "text": [
      "1.0090606212615967  sec\n",
      "Start background\n"
     ]
    },
    {
     "name": "stderr",
     "output_type": "stream",
     "text": [
      "\n",
      "background: 100%|██████████| 1/1 [00:00<00:00, 2579.52it/s]\n"
     ]
    },
    {
     "name": "stdout",
     "output_type": "stream",
     "text": [
      "0.005663633346557617  sec\n",
      "Start early years\n"
     ]
    },
    {
     "name": "stderr",
     "output_type": "stream",
     "text": [
      "\n",
      "early years: 100%|██████████| 1/1 [00:00<00:00, 2953.74it/s]\n"
     ]
    },
    {
     "name": "stdout",
     "output_type": "stream",
     "text": [
      "0.004137277603149414  sec\n",
      "Start early life and training\n"
     ]
    },
    {
     "name": "stderr",
     "output_type": "stream",
     "text": [
      "\n",
      "early life and training:   0%|          | 0/1 [00:00<?, ?it/s]\u001b[A\n",
      "early life and training: 100%|██████████| 1/1 [00:02<00:00,  2.01s/it]\n",
      "Main:  57%|█████▋    | 105/184 [02:52<01:39,  1.26s/it]"
     ]
    },
    {
     "name": "stdout",
     "output_type": "stream",
     "text": [
      "2.009469747543335  sec\n",
      "Start other activities\n"
     ]
    },
    {
     "name": "stderr",
     "output_type": "stream",
     "text": [
      "\n",
      "other activities:   0%|          | 0/1 [00:00<?, ?it/s]\u001b[A\n",
      "other activities: 100%|██████████| 1/1 [00:01<00:00,  1.00s/it]\n",
      "Main:  58%|█████▊    | 106/184 [02:53<01:34,  1.21s/it]"
     ]
    },
    {
     "name": "stdout",
     "output_type": "stream",
     "text": [
      "1.0127112865447998  sec\n",
      "Start style\n"
     ]
    },
    {
     "name": "stderr",
     "output_type": "stream",
     "text": [
      "\n",
      "style:   0%|          | 0/1 [00:00<?, ?it/s]\u001b[A\n",
      "style: 100%|██████████| 1/1 [00:01<00:00,  1.00s/it]\n",
      "Main:  58%|█████▊    | 107/184 [02:54<01:29,  1.16s/it]"
     ]
    },
    {
     "name": "stdout",
     "output_type": "stream",
     "text": [
      "1.012169599533081  sec\n",
      "Start popular culture\n"
     ]
    },
    {
     "name": "stderr",
     "output_type": "stream",
     "text": [
      "\n",
      "popular culture: 100%|██████████| 1/1 [00:00<00:00, 3246.37it/s]\n"
     ]
    },
    {
     "name": "stdout",
     "output_type": "stream",
     "text": [
      "0.010101318359375  sec\n",
      "Start early and personal life\n"
     ]
    },
    {
     "name": "stderr",
     "output_type": "stream",
     "text": [
      "\n",
      "early and personal life: 100%|██████████| 1/1 [00:00<00:00, 655.36it/s]\n"
     ]
    },
    {
     "name": "stdout",
     "output_type": "stream",
     "text": [
      "0.010424375534057617  sec\n",
      "Start quotes\n"
     ]
    },
    {
     "name": "stderr",
     "output_type": "stream",
     "text": [
      "\n",
      "quotes: 100%|██████████| 1/1 [00:00<00:00, 3615.78it/s]\n"
     ]
    },
    {
     "name": "stdout",
     "output_type": "stream",
     "text": [
      "0.005916595458984375  sec\n",
      "Start social service\n"
     ]
    },
    {
     "name": "stderr",
     "output_type": "stream",
     "text": [
      "\n",
      "social service: 100%|██████████| 1/1 [00:00<00:00, 3302.60it/s]\n"
     ]
    },
    {
     "name": "stdout",
     "output_type": "stream",
     "text": [
      "0.005309581756591797  sec\n",
      "Start books and publications\n"
     ]
    },
    {
     "name": "stderr",
     "output_type": "stream",
     "text": [
      "\n",
      "books and publications: 100%|██████████| 1/1 [00:00<00:00, 2582.70it/s]\n"
     ]
    },
    {
     "name": "stdout",
     "output_type": "stream",
     "text": [
      "0.00484466552734375  sec\n",
      "Start professional life\n"
     ]
    },
    {
     "name": "stderr",
     "output_type": "stream",
     "text": [
      "\n",
      "professional life:   0%|          | 0/1 [00:00<?, ?it/s]\u001b[A\n",
      "professional life: 100%|██████████| 1/1 [00:01<00:00,  1.00s/it]\n",
      "Main:  61%|██████▏   | 113/184 [02:55<00:35,  1.97it/s]"
     ]
    },
    {
     "name": "stdout",
     "output_type": "stream",
     "text": [
      "1.0082807540893555  sec\n",
      "Start international competitions\n"
     ]
    },
    {
     "name": "stderr",
     "output_type": "stream",
     "text": [
      "\n",
      "international competitions: 100%|██████████| 1/1 [00:00<00:00, 2766.69it/s]\n"
     ]
    },
    {
     "name": "stdout",
     "output_type": "stream",
     "text": [
      "0.005190134048461914  sec\n",
      "Start television\n"
     ]
    },
    {
     "name": "stderr",
     "output_type": "stream",
     "text": [
      "\n",
      "television:   0%|          | 0/1 [00:00<?, ?it/s]\u001b[A\n",
      "television: 100%|██████████| 1/1 [00:03<00:00,  3.01s/it]\n",
      "Main:  62%|██████▎   | 115/184 [02:58<00:51,  1.34it/s]"
     ]
    },
    {
     "name": "stdout",
     "output_type": "stream",
     "text": [
      "3.0111122131347656  sec\n",
      "Start reception\n"
     ]
    },
    {
     "name": "stderr",
     "output_type": "stream",
     "text": [
      "\n",
      "reception:   0%|          | 0/1 [00:00<?, ?it/s]\u001b[A\n",
      "reception: 100%|██████████| 1/1 [00:02<00:00,  2.00s/it]\n",
      "Main:  63%|██████▎   | 116/184 [03:00<01:03,  1.07it/s]"
     ]
    },
    {
     "name": "stdout",
     "output_type": "stream",
     "text": [
      "2.00897479057312  sec\n",
      "Start students\n"
     ]
    },
    {
     "name": "stderr",
     "output_type": "stream",
     "text": [
      "\n",
      "students:   0%|          | 0/1 [00:00<?, ?it/s]\u001b[A\n",
      "students: 100%|██████████| 1/1 [00:01<00:00,  1.00s/it]\n",
      "Main:  64%|██████▎   | 117/184 [03:01<01:03,  1.06it/s]"
     ]
    },
    {
     "name": "stdout",
     "output_type": "stream",
     "text": [
      "1.0119998455047607  sec\n",
      "Start major works\n"
     ]
    },
    {
     "name": "stderr",
     "output_type": "stream",
     "text": [
      "\n",
      "major works:   0%|          | 0/1 [00:00<?, ?it/s]\u001b[A\n",
      "major works: 100%|██████████| 1/1 [00:01<00:00,  1.00s/it]\n",
      "Main:  64%|██████▍   | 118/184 [03:02<01:03,  1.04it/s]"
     ]
    },
    {
     "name": "stdout",
     "output_type": "stream",
     "text": [
      "1.0079829692840576  sec\n",
      "Start social activities\n"
     ]
    },
    {
     "name": "stderr",
     "output_type": "stream",
     "text": [
      "\n",
      "social activities:   0%|          | 0/1 [00:00<?, ?it/s]\u001b[A\n",
      "social activities: 100%|██████████| 1/1 [00:01<00:00,  1.00s/it]\n",
      "Main:  65%|██████▍   | 119/184 [03:03<01:03,  1.03it/s]"
     ]
    },
    {
     "name": "stdout",
     "output_type": "stream",
     "text": [
      "1.009531021118164  sec\n",
      "Start plays\n"
     ]
    },
    {
     "name": "stderr",
     "output_type": "stream",
     "text": [
      "\n",
      "plays:   0%|          | 0/1 [00:00<?, ?it/s]\u001b[A\n",
      "plays: 100%|██████████| 1/1 [00:02<00:00,  2.01s/it]\n",
      "Main:  65%|██████▌   | 120/184 [03:05<01:18,  1.22s/it]"
     ]
    },
    {
     "name": "stdout",
     "output_type": "stream",
     "text": [
      "2.0126793384552  sec\n",
      "Start awards and distinctions\n"
     ]
    },
    {
     "name": "stderr",
     "output_type": "stream",
     "text": [
      "\n",
      "awards and distinctions:   0%|          | 0/1 [00:00<?, ?it/s]\u001b[A\n",
      "awards and distinctions: 100%|██████████| 1/1 [00:03<00:00,  3.01s/it]\n",
      "Main:  66%|██████▌   | 121/184 [03:08<01:45,  1.68s/it]"
     ]
    },
    {
     "name": "stdout",
     "output_type": "stream",
     "text": [
      "3.0139293670654297  sec\n",
      "Start musical career\n"
     ]
    },
    {
     "name": "stderr",
     "output_type": "stream",
     "text": [
      "\n",
      "musical career:   0%|          | 0/1 [00:00<?, ?it/s]\u001b[A\n",
      "musical career: 100%|██████████| 1/1 [00:01<00:00,  1.00s/it]\n",
      "Main:  66%|██████▋   | 122/184 [03:09<01:33,  1.50s/it]"
     ]
    },
    {
     "name": "stdout",
     "output_type": "stream",
     "text": [
      "1.012087106704712  sec\n",
      "Start affiliations\n"
     ]
    },
    {
     "name": "stderr",
     "output_type": "stream",
     "text": [
      "\n",
      "affiliations: 100%|██████████| 1/1 [00:00<00:00, 2866.92it/s]\n"
     ]
    },
    {
     "name": "stdout",
     "output_type": "stream",
     "text": [
      "0.004689455032348633  sec\n",
      "Start book\n"
     ]
    },
    {
     "name": "stderr",
     "output_type": "stream",
     "text": [
      "\n",
      "book: 100%|██████████| 1/1 [00:00<00:00, 3170.30it/s]\n"
     ]
    },
    {
     "name": "stdout",
     "output_type": "stream",
     "text": [
      "0.004678010940551758  sec\n",
      "Start humanitarian work\n"
     ]
    },
    {
     "name": "stderr",
     "output_type": "stream",
     "text": [
      "\n",
      "humanitarian work:   0%|          | 0/1 [00:00<?, ?it/s]\u001b[A\n",
      "humanitarian work: 100%|██████████| 1/1 [00:03<00:00,  3.01s/it]\n",
      "Main:  68%|██████▊   | 125/184 [03:12<01:13,  1.24s/it]"
     ]
    },
    {
     "name": "stdout",
     "output_type": "stream",
     "text": [
      "3.0108609199523926  sec\n",
      "Start social work\n"
     ]
    },
    {
     "name": "stderr",
     "output_type": "stream",
     "text": [
      "\n",
      "social work:   0%|          | 0/1 [00:00<?, ?it/s]\u001b[A\n",
      "social work: 100%|██████████| 1/1 [00:01<00:00,  1.00s/it]\n",
      "Main:  68%|██████▊   | 126/184 [03:13<01:09,  1.19s/it]"
     ]
    },
    {
     "name": "stdout",
     "output_type": "stream",
     "text": [
      "1.007411241531372  sec\n",
      "Start selected articles\n"
     ]
    },
    {
     "name": "stderr",
     "output_type": "stream",
     "text": [
      "\n",
      "selected articles:   0%|          | 0/1 [00:00<?, ?it/s]\u001b[A\n",
      "selected articles: 100%|██████████| 1/1 [00:01<00:00,  1.00s/it]\n",
      "Main:  69%|██████▉   | 127/184 [03:14<01:05,  1.15s/it]"
     ]
    },
    {
     "name": "stdout",
     "output_type": "stream",
     "text": [
      "1.0134034156799316  sec\n",
      "Start notable works\n"
     ]
    },
    {
     "name": "stderr",
     "output_type": "stream",
     "text": [
      "\n",
      "notable works:   0%|          | 0/1 [00:00<?, ?it/s]\u001b[A\n",
      "notable works: 100%|██████████| 1/1 [00:01<00:00,  1.00s/it]\n",
      "Main:  70%|██████▉   | 128/184 [03:15<01:02,  1.12s/it]"
     ]
    },
    {
     "name": "stdout",
     "output_type": "stream",
     "text": [
      "1.0112922191619873  sec\n",
      "Start playing career\n"
     ]
    },
    {
     "name": "stderr",
     "output_type": "stream",
     "text": [
      "\n",
      "playing career:   0%|          | 0/1 [00:00<?, ?it/s]\u001b[A\n",
      "playing career: 100%|██████████| 1/1 [00:03<00:00,  3.01s/it]\n",
      "Main:  70%|███████   | 129/184 [03:18<01:28,  1.61s/it]"
     ]
    },
    {
     "name": "stdout",
     "output_type": "stream",
     "text": [
      "3.0114853382110596  sec\n",
      "Start performances\n"
     ]
    },
    {
     "name": "stderr",
     "output_type": "stream",
     "text": [
      "\n",
      "performances: 100%|██████████| 1/1 [00:00<00:00, 2094.01it/s]\n"
     ]
    },
    {
     "name": "stdout",
     "output_type": "stream",
     "text": [
      "0.0061991214752197266  sec\n",
      "Start diplomatic career\n"
     ]
    },
    {
     "name": "stderr",
     "output_type": "stream",
     "text": [
      "\n",
      "diplomatic career:   0%|          | 0/1 [00:00<?, ?it/s]\u001b[A\n",
      "diplomatic career: 100%|██████████| 1/1 [00:02<00:00,  2.01s/it]\n",
      "Main:  71%|███████   | 131/184 [03:20<01:11,  1.35s/it]"
     ]
    },
    {
     "name": "stdout",
     "output_type": "stream",
     "text": [
      "2.0099005699157715  sec\n",
      "Start autobiography\n"
     ]
    },
    {
     "name": "stderr",
     "output_type": "stream",
     "text": [
      "\n",
      "autobiography:   0%|          | 0/1 [00:00<?, ?it/s]\u001b[A\n",
      "autobiography: 100%|██████████| 1/1 [00:02<00:00,  2.00s/it]\n",
      "Main:  72%|███████▏  | 132/184 [03:22<01:18,  1.51s/it]"
     ]
    },
    {
     "name": "stdout",
     "output_type": "stream",
     "text": [
      "2.0099761486053467  sec\n",
      "Start playing style\n"
     ]
    },
    {
     "name": "stderr",
     "output_type": "stream",
     "text": [
      "\n",
      "playing style: 100%|██████████| 1/1 [00:00<00:00, 2912.71it/s]\n"
     ]
    },
    {
     "name": "stdout",
     "output_type": "stream",
     "text": [
      "0.004363059997558594  sec\n",
      "Start later career\n"
     ]
    },
    {
     "name": "stderr",
     "output_type": "stream",
     "text": [
      "\n",
      "later career:   0%|          | 0/1 [00:00<?, ?it/s]\u001b[A\n",
      "later career: 100%|██████████| 1/1 [00:01<00:00,  1.00s/it]\n",
      "Main:  73%|███████▎  | 134/184 [03:23<00:55,  1.11s/it]"
     ]
    },
    {
     "name": "stdout",
     "output_type": "stream",
     "text": [
      "1.0090506076812744  sec\n",
      "Start awards and titles\n"
     ]
    },
    {
     "name": "stderr",
     "output_type": "stream",
     "text": [
      "\n",
      "awards and titles:   0%|          | 0/1 [00:00<?, ?it/s]\u001b[A\n",
      "awards and titles: 100%|██████████| 1/1 [00:01<00:00,  1.00s/it]\n",
      "Main:  73%|███████▎  | 135/184 [03:24<00:53,  1.09s/it]"
     ]
    },
    {
     "name": "stdout",
     "output_type": "stream",
     "text": [
      "1.0077893733978271  sec\n",
      "Start awards & honours\n"
     ]
    },
    {
     "name": "stderr",
     "output_type": "stream",
     "text": [
      "\n",
      "awards & honours:   0%|          | 0/1 [00:00<?, ?it/s]\u001b[A\n",
      "awards & honours: 100%|██████████| 1/1 [00:02<00:00,  2.01s/it]\n",
      "Main:  74%|███████▍  | 136/184 [03:26<01:02,  1.31s/it]"
     ]
    },
    {
     "name": "stdout",
     "output_type": "stream",
     "text": [
      "2.012211799621582  sec\n",
      "Start list of works\n"
     ]
    },
    {
     "name": "stderr",
     "output_type": "stream",
     "text": [
      "\n",
      "list of works:   0%|          | 0/1 [00:00<?, ?it/s]\u001b[A\n",
      "list of works: 100%|██████████| 1/1 [00:02<00:00,  2.00s/it]\n",
      "Main:  74%|███████▍  | 137/184 [03:28<01:09,  1.49s/it]"
     ]
    },
    {
     "name": "stdout",
     "output_type": "stream",
     "text": [
      "2.011772871017456  sec\n",
      "Start gallery\n"
     ]
    },
    {
     "name": "stderr",
     "output_type": "stream",
     "text": [
      "\n",
      "gallery:   0%|          | 0/1 [00:00<?, ?it/s]\u001b[A\n",
      "gallery: 100%|██████████| 1/1 [00:01<00:00,  1.00s/it]\n",
      "Main:  75%|███████▌  | 138/184 [03:29<01:02,  1.36s/it]"
     ]
    },
    {
     "name": "stdout",
     "output_type": "stream",
     "text": [
      "1.009390115737915  sec\n",
      "Start partial filmography\n"
     ]
    },
    {
     "name": "stderr",
     "output_type": "stream",
     "text": [
      "\n",
      "partial filmography: 100%|██████████| 1/1 [00:00<00:00, 847.51it/s]\n"
     ]
    },
    {
     "name": "stdout",
     "output_type": "stream",
     "text": [
      "0.009696245193481445  sec\n",
      "Start other works\n"
     ]
    },
    {
     "name": "stderr",
     "output_type": "stream",
     "text": [
      "\n",
      "other works:   0%|          | 0/1 [00:00<?, ?it/s]\u001b[A\n",
      "other works: 100%|██████████| 1/1 [00:01<00:00,  1.00s/it]\n",
      "Main:  76%|███████▌  | 140/184 [03:30<00:43,  1.01it/s]"
     ]
    },
    {
     "name": "stdout",
     "output_type": "stream",
     "text": [
      "1.0086441040039062  sec\n",
      "Start cricket career\n"
     ]
    },
    {
     "name": "stderr",
     "output_type": "stream",
     "text": [
      "\n",
      "cricket career:   0%|          | 0/1 [00:00<?, ?it/s]\u001b[A\n",
      "cricket career: 100%|██████████| 1/1 [00:01<00:00,  1.00s/it]\n",
      "Main:  77%|███████▋  | 141/184 [03:31<00:42,  1.00it/s]"
     ]
    },
    {
     "name": "stdout",
     "output_type": "stream",
     "text": [
      "1.007960557937622  sec\n",
      "Start birth\n"
     ]
    },
    {
     "name": "stderr",
     "output_type": "stream",
     "text": [
      "\n",
      "birth:   0%|          | 0/1 [00:00<?, ?it/s]\u001b[A\n",
      "birth: 100%|██████████| 1/1 [00:03<00:00,  3.01s/it]\n",
      "Main:  77%|███████▋  | 142/184 [03:34<01:03,  1.50s/it]"
     ]
    },
    {
     "name": "stdout",
     "output_type": "stream",
     "text": [
      "3.011021137237549  sec\n",
      "Start family and personal life\n"
     ]
    },
    {
     "name": "stderr",
     "output_type": "stream",
     "text": [
      "\n",
      "family and personal life:   0%|          | 0/1 [00:00<?, ?it/s]\u001b[A\n",
      "family and personal life: 100%|██████████| 1/1 [00:02<00:00,  2.01s/it]\n",
      "Main:  78%|███████▊  | 143/184 [03:36<01:07,  1.64s/it]"
     ]
    },
    {
     "name": "stdout",
     "output_type": "stream",
     "text": [
      "2.0087358951568604  sec\n",
      "Start personal\n"
     ]
    },
    {
     "name": "stderr",
     "output_type": "stream",
     "text": [
      "\n",
      "personal: 100%|██████████| 1/1 [00:00<00:00, 2619.80it/s]\n"
     ]
    },
    {
     "name": "stdout",
     "output_type": "stream",
     "text": [
      "0.0043048858642578125  sec\n",
      "Start selected filmography\n"
     ]
    },
    {
     "name": "stderr",
     "output_type": "stream",
     "text": [
      "\n",
      "selected filmography: 100%|██████████| 1/1 [00:00<00:00, 3097.71it/s]\n"
     ]
    },
    {
     "name": "stdout",
     "output_type": "stream",
     "text": [
      "0.0040111541748046875  sec\n",
      "Start career highlights\n"
     ]
    },
    {
     "name": "stderr",
     "output_type": "stream",
     "text": [
      "\n",
      "career highlights:   0%|          | 0/1 [00:00<?, ?it/s]\u001b[A\n",
      "career highlights: 100%|██████████| 1/1 [00:03<00:00,  3.01s/it]\n",
      "Main:  79%|███████▉  | 146/184 [03:39<00:49,  1.30s/it]"
     ]
    },
    {
     "name": "stdout",
     "output_type": "stream",
     "text": [
      "3.011324405670166  sec\n",
      "Start literary contributions\n"
     ]
    },
    {
     "name": "stderr",
     "output_type": "stream",
     "text": [
      "\n",
      "literary contributions: 100%|██████████| 1/1 [00:00<00:00, 2985.27it/s]\n"
     ]
    },
    {
     "name": "stdout",
     "output_type": "stream",
     "text": [
      "0.005689382553100586  sec\n",
      "Start international career\n"
     ]
    },
    {
     "name": "stderr",
     "output_type": "stream",
     "text": [
      "\n",
      "international career:   0%|          | 0/1 [00:00<?, ?it/s]\u001b[A\n",
      "international career: 100%|██████████| 1/1 [00:01<00:00,  1.00s/it]\n",
      "Main:  80%|████████  | 148/184 [03:40<00:37,  1.04s/it]"
     ]
    },
    {
     "name": "stdout",
     "output_type": "stream",
     "text": [
      "1.0091593265533447  sec\n",
      "Start accolades\n"
     ]
    },
    {
     "name": "stderr",
     "output_type": "stream",
     "text": [
      "\n",
      "accolades:   0%|          | 0/1 [00:00<?, ?it/s]\u001b[A\n",
      "accolades: 100%|██████████| 1/1 [00:03<00:00,  3.01s/it]\n",
      "Main:  81%|████████  | 149/184 [03:43<00:49,  1.42s/it]"
     ]
    },
    {
     "name": "stdout",
     "output_type": "stream",
     "text": [
      "3.0181033611297607  sec\n",
      "Start captaincy\n"
     ]
    },
    {
     "name": "stderr",
     "output_type": "stream",
     "text": [
      "\n",
      "captaincy:   0%|          | 0/1 [00:00<?, ?it/s]\u001b[A\n",
      "captaincy: 100%|██████████| 1/1 [00:02<00:00,  2.00s/it]\n",
      "Main:  82%|████████▏ | 150/184 [03:45<00:52,  1.55s/it]"
     ]
    },
    {
     "name": "stdout",
     "output_type": "stream",
     "text": [
      "2.0133731365203857  sec\n",
      "Start media\n"
     ]
    },
    {
     "name": "stderr",
     "output_type": "stream",
     "text": [
      "\n",
      "media: 100%|██████████| 1/1 [00:00<00:00, 2779.53it/s]\n"
     ]
    },
    {
     "name": "stdout",
     "output_type": "stream",
     "text": [
      "0.006680011749267578  sec\n",
      "Start performing career\n"
     ]
    },
    {
     "name": "stderr",
     "output_type": "stream",
     "text": [
      "\n",
      "performing career:   0%|          | 0/1 [00:00<?, ?it/s]\u001b[A\n",
      "performing career: 100%|██████████| 1/1 [00:01<00:00,  1.00s/it]\n",
      "Main:  83%|████████▎ | 152/184 [03:46<00:36,  1.15s/it]"
     ]
    },
    {
     "name": "stdout",
     "output_type": "stream",
     "text": [
      "1.0098097324371338  sec\n",
      "Start early days\n"
     ]
    },
    {
     "name": "stderr",
     "output_type": "stream",
     "text": [
      "\n",
      "early days:   0%|          | 0/1 [00:00<?, ?it/s]\u001b[A\n",
      "early days: 100%|██████████| 1/1 [00:02<00:00,  2.00s/it]\n",
      "Main:  83%|████████▎ | 153/184 [03:48<00:41,  1.34s/it]"
     ]
    },
    {
     "name": "stdout",
     "output_type": "stream",
     "text": [
      "2.0080862045288086  sec\n",
      "Start awards and achievements\n"
     ]
    },
    {
     "name": "stderr",
     "output_type": "stream",
     "text": [
      "\n",
      "awards and achievements:   0%|          | 0/1 [00:00<?, ?it/s]\u001b[A\n",
      "awards and achievements: 100%|██████████| 1/1 [00:02<00:00,  2.01s/it]\n",
      "Main:  84%|████████▎ | 154/184 [03:50<00:44,  1.50s/it]"
     ]
    },
    {
     "name": "stdout",
     "output_type": "stream",
     "text": [
      "2.015589952468872  sec\n",
      "Start memberships\n"
     ]
    },
    {
     "name": "stderr",
     "output_type": "stream",
     "text": [
      "\n",
      "memberships:   0%|          | 0/1 [00:00<?, ?it/s]\u001b[A\n",
      "memberships: 100%|██████████| 1/1 [00:01<00:00,  1.00s/it]\n",
      "Main:  84%|████████▍ | 155/184 [03:51<00:39,  1.37s/it]"
     ]
    },
    {
     "name": "stdout",
     "output_type": "stream",
     "text": [
      "1.0090281963348389  sec\n",
      "Start criticism\n"
     ]
    },
    {
     "name": "stderr",
     "output_type": "stream",
     "text": [
      "\n",
      "criticism:   0%|          | 0/1 [00:00<?, ?it/s]\u001b[A\n",
      "criticism: 100%|██████████| 1/1 [00:02<00:00,  2.00s/it]\n",
      "Main:  85%|████████▍ | 156/184 [03:53<00:43,  1.54s/it]"
     ]
    },
    {
     "name": "stdout",
     "output_type": "stream",
     "text": [
      "2.0110957622528076  sec\n",
      "Start books authored\n"
     ]
    },
    {
     "name": "stderr",
     "output_type": "stream",
     "text": [
      "\n",
      "books authored:   0%|          | 0/1 [00:00<?, ?it/s]\u001b[A\n",
      "books authored: 100%|██████████| 1/1 [00:03<00:00,  3.01s/it]\n",
      "Main:  85%|████████▌ | 157/184 [03:56<00:52,  1.94s/it]"
     ]
    },
    {
     "name": "stdout",
     "output_type": "stream",
     "text": [
      "3.009460926055908  sec\n",
      "Start business career\n"
     ]
    },
    {
     "name": "stderr",
     "output_type": "stream",
     "text": [
      "\n",
      "business career:   0%|          | 0/1 [00:00<?, ?it/s]\u001b[A\n",
      "business career: 100%|██████████| 1/1 [00:02<00:00,  2.01s/it]\n",
      "Main:  86%|████████▌ | 158/184 [03:58<00:51,  1.96s/it]"
     ]
    },
    {
     "name": "stdout",
     "output_type": "stream",
     "text": [
      "2.0102462768554688  sec\n",
      "Start memorials\n"
     ]
    },
    {
     "name": "stderr",
     "output_type": "stream",
     "text": [
      "\n",
      "memorials: 100%|██████████| 1/1 [00:00<00:00, 2728.89it/s]\n"
     ]
    },
    {
     "name": "stdout",
     "output_type": "stream",
     "text": [
      "0.004455089569091797  sec\n",
      "Start writing\n"
     ]
    },
    {
     "name": "stderr",
     "output_type": "stream",
     "text": [
      "\n",
      "writing: 100%|██████████| 1/1 [00:00<00:00, 3339.41it/s]\n"
     ]
    },
    {
     "name": "stdout",
     "output_type": "stream",
     "text": [
      "0.004748344421386719  sec\n",
      "Start post retirement\n"
     ]
    },
    {
     "name": "stderr",
     "output_type": "stream",
     "text": [
      "\n",
      "post retirement:   0%|          | 0/1 [00:00<?, ?it/s]\u001b[A\n",
      "post retirement: 100%|██████████| 1/1 [00:01<00:00,  1.00s/it]\n",
      "Main:  88%|████████▊ | 161/184 [03:59<00:24,  1.08s/it]"
     ]
    },
    {
     "name": "stdout",
     "output_type": "stream",
     "text": [
      "1.0093111991882324  sec\n",
      "Start life and work\n"
     ]
    },
    {
     "name": "stderr",
     "output_type": "stream",
     "text": [
      "\n",
      "life and work: 100%|██████████| 1/1 [00:00<00:00, 2614.90it/s]\n"
     ]
    },
    {
     "name": "stdout",
     "output_type": "stream",
     "text": [
      "0.004185914993286133  sec\n",
      "Start personal life and death\n"
     ]
    },
    {
     "name": "stderr",
     "output_type": "stream",
     "text": [
      "\n",
      "personal life and death:   0%|          | 0/1 [00:00<?, ?it/s]\u001b[A\n",
      "personal life and death: 100%|██████████| 1/1 [00:02<00:00,  2.00s/it]\n",
      "Main:  89%|████████▊ | 163/184 [04:01<00:22,  1.05s/it]"
     ]
    },
    {
     "name": "stdout",
     "output_type": "stream",
     "text": [
      "2.0101125240325928  sec\n",
      "Start legacy and honours\n"
     ]
    },
    {
     "name": "stderr",
     "output_type": "stream",
     "text": [
      "\n",
      "legacy and honours:   0%|          | 0/1 [00:00<?, ?it/s]\u001b[A\n",
      "legacy and honours: 100%|██████████| 1/1 [00:03<00:00,  3.01s/it]\n",
      "Main:  89%|████████▉ | 164/184 [04:04<00:28,  1.44s/it]"
     ]
    },
    {
     "name": "stdout",
     "output_type": "stream",
     "text": [
      "3.0108296871185303  sec\n",
      "Start later life and death\n"
     ]
    },
    {
     "name": "stderr",
     "output_type": "stream",
     "text": [
      "\n",
      "later life and death:   0%|          | 0/1 [00:00<?, ?it/s]\u001b[A\n",
      "later life and death: 100%|██████████| 1/1 [00:02<00:00,  2.00s/it]\n",
      "Main:  90%|████████▉ | 165/184 [04:06<00:29,  1.56s/it]"
     ]
    },
    {
     "name": "stdout",
     "output_type": "stream",
     "text": [
      "2.0091261863708496  sec\n",
      "Start other achievements\n"
     ]
    },
    {
     "name": "stderr",
     "output_type": "stream",
     "text": [
      "\n",
      "other achievements:   0%|          | 0/1 [00:00<?, ?it/s]\u001b[A\n",
      "other achievements: 100%|██████████| 1/1 [00:01<00:00,  1.00s/it]\n",
      "Main:  90%|█████████ | 166/184 [04:07<00:25,  1.43s/it]"
     ]
    },
    {
     "name": "stdout",
     "output_type": "stream",
     "text": [
      "1.0080246925354004  sec\n",
      "Start post-retirement\n"
     ]
    },
    {
     "name": "stderr",
     "output_type": "stream",
     "text": [
      "\n",
      "post-retirement: 100%|██████████| 1/1 [00:00<00:00, 2830.16it/s]\n"
     ]
    },
    {
     "name": "stdout",
     "output_type": "stream",
     "text": [
      "0.004712820053100586  sec\n",
      "Start list of indian writers\n"
     ]
    },
    {
     "name": "stderr",
     "output_type": "stream",
     "text": [
      "\n",
      "list of indian writers:   0%|          | 0/1 [00:00<?, ?it/s]\u001b[A\n",
      "list of indian writers: 100%|██████████| 1/1 [00:03<00:00,  3.01s/it]\n",
      "Main:  91%|█████████▏| 168/184 [04:11<00:23,  1.46s/it]"
     ]
    },
    {
     "name": "stdout",
     "output_type": "stream",
     "text": [
      "3.0103812217712402  sec\n",
      "Start accomplishments\n"
     ]
    },
    {
     "name": "stderr",
     "output_type": "stream",
     "text": [
      "\n",
      "accomplishments:   0%|          | 0/1 [00:00<?, ?it/s]\u001b[A\n",
      "accomplishments: 100%|██████████| 1/1 [00:03<00:00,  3.01s/it]\n",
      "Main:  92%|█████████▏| 169/184 [04:14<00:27,  1.81s/it]"
     ]
    },
    {
     "name": "stdout",
     "output_type": "stream",
     "text": [
      "3.012962818145752  sec\n",
      "Start achievements and legacy\n"
     ]
    },
    {
     "name": "stderr",
     "output_type": "stream",
     "text": [
      "\n",
      "achievements and legacy: 100%|██████████| 1/1 [00:00<00:00, 1721.80it/s]\n"
     ]
    },
    {
     "name": "stdout",
     "output_type": "stream",
     "text": [
      "0.005258083343505859  sec\n",
      "Start contribution\n"
     ]
    },
    {
     "name": "stderr",
     "output_type": "stream",
     "text": [
      "\n",
      "contribution:   0%|          | 0/1 [00:00<?, ?it/s]\u001b[A\n",
      "contribution: 100%|██████████| 1/1 [00:02<00:00,  2.00s/it]\n",
      "Main:  93%|█████████▎| 171/184 [04:16<00:19,  1.50s/it]"
     ]
    },
    {
     "name": "stdout",
     "output_type": "stream",
     "text": [
      "2.009603261947632  sec\n",
      "Start appearances in the following poetry anthologies\n"
     ]
    },
    {
     "name": "stderr",
     "output_type": "stream",
     "text": [
      "\n",
      "appearances in the following poetry anthologies: 100%|██████████| 1/1 [00:00<00:00, 2669.83it/s]\n"
     ]
    },
    {
     "name": "stdout",
     "output_type": "stream",
     "text": [
      "0.0039539337158203125  sec\n",
      "Start political life\n"
     ]
    },
    {
     "name": "stderr",
     "output_type": "stream",
     "text": [
      "\n",
      "political life:   0%|          | 0/1 [00:00<?, ?it/s]\u001b[A\n",
      "political life: 100%|██████████| 1/1 [00:03<00:00,  3.01s/it]\n",
      "Main:  94%|█████████▍| 173/184 [04:19<00:16,  1.50s/it]"
     ]
    },
    {
     "name": "stdout",
     "output_type": "stream",
     "text": [
      "3.0118885040283203  sec\n",
      "Start honour\n"
     ]
    },
    {
     "name": "stderr",
     "output_type": "stream",
     "text": [
      "\n",
      "honour:   0%|          | 0/1 [00:00<?, ?it/s]\u001b[A\n",
      "honour: 100%|██████████| 1/1 [00:01<00:00,  1.01s/it]\n",
      "Main:  95%|█████████▍| 174/184 [04:20<00:14,  1.40s/it]"
     ]
    },
    {
     "name": "stdout",
     "output_type": "stream",
     "text": [
      "1.0137112140655518  sec\n",
      "Start filmography and accolades\n"
     ]
    },
    {
     "name": "stderr",
     "output_type": "stream",
     "text": [
      "\n",
      "filmography and accolades:   0%|          | 0/1 [00:00<?, ?it/s]\u001b[A\n",
      "filmography and accolades: 100%|██████████| 1/1 [00:02<00:00,  2.01s/it]\n",
      "Main:  95%|█████████▌| 175/184 [04:22<00:13,  1.54s/it]"
     ]
    },
    {
     "name": "stdout",
     "output_type": "stream",
     "text": [
      "2.0146524906158447  sec\n",
      "Start compositions\n"
     ]
    },
    {
     "name": "stderr",
     "output_type": "stream",
     "text": [
      "\n",
      "compositions:   0%|          | 0/1 [00:00<?, ?it/s]\u001b[A\n",
      "compositions: 100%|██████████| 1/1 [00:02<00:00,  2.00s/it]\n",
      "Main:  96%|█████████▌| 176/184 [04:24<00:13,  1.66s/it]"
     ]
    },
    {
     "name": "stdout",
     "output_type": "stream",
     "text": [
      "2.0120463371276855  sec\n",
      "Start commemoration\n"
     ]
    },
    {
     "name": "stderr",
     "output_type": "stream",
     "text": [
      "\n",
      "commemoration: 100%|██████████| 1/1 [00:00<00:00, 1516.38it/s]\n"
     ]
    },
    {
     "name": "stdout",
     "output_type": "stream",
     "text": [
      "0.008499383926391602  sec\n",
      "Start personal life and family\n"
     ]
    },
    {
     "name": "stderr",
     "output_type": "stream",
     "text": [
      "\n",
      "personal life and family: 100%|██████████| 1/1 [00:00<00:00, 3194.44it/s]\n"
     ]
    },
    {
     "name": "stdout",
     "output_type": "stream",
     "text": [
      "0.006396055221557617  sec\n",
      "Start footnotes\n"
     ]
    },
    {
     "name": "stderr",
     "output_type": "stream",
     "text": [
      "\n",
      "footnotes:   0%|          | 0/1 [00:00<?, ?it/s]\u001b[A\n",
      "footnotes: 100%|██████████| 1/1 [00:03<00:00,  3.01s/it]\n",
      "Main:  97%|█████████▋| 179/184 [04:27<00:06,  1.33s/it]"
     ]
    },
    {
     "name": "stdout",
     "output_type": "stream",
     "text": [
      "3.0107481479644775  sec\n",
      "Start concert performances\n"
     ]
    },
    {
     "name": "stderr",
     "output_type": "stream",
     "text": [
      "\n",
      "concert performances: 100%|██████████| 1/1 [00:00<00:00, 1863.31it/s]\n"
     ]
    },
    {
     "name": "stdout",
     "output_type": "stream",
     "text": [
      "0.005955696105957031  sec\n",
      "Start performance timelines\n"
     ]
    },
    {
     "name": "stderr",
     "output_type": "stream",
     "text": [
      "\n",
      "performance timelines:   0%|          | 0/1 [00:00<?, ?it/s]\u001b[A\n",
      "performance timelines: 100%|██████████| 1/1 [00:02<00:00,  2.00s/it]\n",
      "Main:  98%|█████████▊| 181/184 [04:29<00:03,  1.22s/it]"
     ]
    },
    {
     "name": "stdout",
     "output_type": "stream",
     "text": [
      "2.008759021759033  sec\n",
      "Start authorship\n"
     ]
    },
    {
     "name": "stderr",
     "output_type": "stream",
     "text": [
      "\n",
      "authorship:   0%|          | 0/1 [00:00<?, ?it/s]\u001b[A\n",
      "authorship: 100%|██████████| 1/1 [00:02<00:00,  2.01s/it]\n",
      "Main:  99%|█████████▉| 182/184 [04:31<00:02,  1.37s/it]"
     ]
    },
    {
     "name": "stdout",
     "output_type": "stream",
     "text": [
      "2.014554500579834  sec\n",
      "Start childhood\n"
     ]
    },
    {
     "name": "stderr",
     "output_type": "stream",
     "text": [
      "\n",
      "childhood:   0%|          | 0/1 [00:00<?, ?it/s]\u001b[A\n",
      "childhood: 100%|██████████| 1/1 [00:02<00:00,  2.01s/it]\n",
      "Main: 100%|██████████| 184/184 [04:33<00:00,  1.48s/it]\n"
     ]
    },
    {
     "name": "stdout",
     "output_type": "stream",
     "text": [
      "2.013253688812256  sec\n",
      "273.1822192668915  sec\n"
     ]
    }
   ],
   "source": [
    "# print('*'*50+'Translate Google Summary '+'*'*50)\n",
    "# step = 40\n",
    "# ci = 0 \n",
    "# try:\n",
    "#     while ci + step < awards.shape[0] :\n",
    "#         awards = create_telugu_google_by_split('Summary',awards,ci,ci+step)\n",
    "#         ci += step\n",
    "#     awards = create_telugu_google_by_split('Summary',awards,ci,awards.shape[0])\n",
    "# except Exception as e:\n",
    "#     print(e)\n",
    "# print('$'*50+'FIN :: Translate Google career '+'$'*50)\n",
    "from time import time\n",
    "awards.drop(columns=['Unnamed: 0','Unnamed: 0.1','index'],inplace=True)\n",
    "al = list(awards.columns)\n",
    "j = 0\n",
    "w1 = time()\n",
    "will = 0\n",
    "for i in tqdm(al,'Main'):\n",
    "    if i in ('Recipients','Recipients Telugu'):\n",
    "        continue\n",
    "    else:\n",
    "        print('Start',i)\n",
    "        w = time() \n",
    "        awards = create_telugu_google_by_split(i,awards,0,1)\n",
    "#         out_csv( '6_' + str(j) + '_' + str(i),data=awards )\n",
    "        j+=1\n",
    "        will += (time() - w)*4450\n",
    "        print(time() - w ,' sec')\n",
    "print(time() - w1 ,' sec')\n",
    "out('6_0_1',data=awards)\n",
    "# awards.columns"
   ]
  },
  {
   "cell_type": "code",
   "execution_count": 14,
   "id": "83739fa9",
   "metadata": {
    "execution": {
     "iopub.execute_input": "2022-04-30T15:43:49.627824Z",
     "iopub.status.busy": "2022-04-30T15:43:49.627570Z",
     "iopub.status.idle": "2022-04-30T15:43:49.658549Z",
     "shell.execute_reply": "2022-04-30T15:43:49.657835Z"
    },
    "papermill": {
     "duration": 0.754624,
     "end_time": "2022-04-30T15:43:49.660653",
     "exception": false,
     "start_time": "2022-04-30T15:43:48.906029",
     "status": "completed"
    },
    "tags": []
   },
   "outputs": [
    {
     "data": {
      "text/html": [
       "<div>\n",
       "<style scoped>\n",
       "    .dataframe tbody tr th:only-of-type {\n",
       "        vertical-align: middle;\n",
       "    }\n",
       "\n",
       "    .dataframe tbody tr th {\n",
       "        vertical-align: top;\n",
       "    }\n",
       "\n",
       "    .dataframe thead th {\n",
       "        text-align: right;\n",
       "    }\n",
       "</style>\n",
       "<table border=\"1\" class=\"dataframe\">\n",
       "  <thead>\n",
       "    <tr style=\"text-align: right;\">\n",
       "      <th></th>\n",
       "      <th>Recipients</th>\n",
       "      <th>Summary</th>\n",
       "      <th>career</th>\n",
       "      <th>references</th>\n",
       "      <th>early life</th>\n",
       "      <th>life</th>\n",
       "      <th>awards</th>\n",
       "      <th>freedom fighter</th>\n",
       "      <th>death</th>\n",
       "      <th>filmography</th>\n",
       "      <th>...</th>\n",
       "      <th>honour Telugu</th>\n",
       "      <th>filmography and accolades Telugu</th>\n",
       "      <th>compositions Telugu</th>\n",
       "      <th>commemoration Telugu</th>\n",
       "      <th>personal life and family Telugu</th>\n",
       "      <th>footnotes Telugu</th>\n",
       "      <th>concert performances Telugu</th>\n",
       "      <th>performance timelines Telugu</th>\n",
       "      <th>authorship Telugu</th>\n",
       "      <th>childhood Telugu</th>\n",
       "    </tr>\n",
       "  </thead>\n",
       "  <tbody>\n",
       "    <tr>\n",
       "      <th>0</th>\n",
       "      <td>A Zakia</td>\n",
       "      <td>A Zakia is a literati, a literary personality ...</td>\n",
       "      <td>After completing his education in 1952, he joi...</td>\n",
       "      <td>NaN</td>\n",
       "      <td>A Zakia was born in Lorrain Ville, in the Saik...</td>\n",
       "      <td>NaN</td>\n",
       "      <td>NaN</td>\n",
       "      <td>NaN</td>\n",
       "      <td>NaN</td>\n",
       "      <td>NaN</td>\n",
       "      <td>...</td>\n",
       "      <td>NaN</td>\n",
       "      <td>NaN</td>\n",
       "      <td>NaN</td>\n",
       "      <td>NaN</td>\n",
       "      <td>NaN</td>\n",
       "      <td>NaN</td>\n",
       "      <td>NaN</td>\n",
       "      <td>NaN</td>\n",
       "      <td>NaN</td>\n",
       "      <td>NaN</td>\n",
       "    </tr>\n",
       "    <tr>\n",
       "      <th>1</th>\n",
       "      <td>A. G. K. Gokhale</td>\n",
       "      <td>Alla Gopala Krishna Gokhale MBBS, M.S. (Genera...</td>\n",
       "      <td>NaN</td>\n",
       "      <td>External links</td>\n",
       "      <td>NaN</td>\n",
       "      <td>He is known for being the first to perform a s...</td>\n",
       "      <td>NaN</td>\n",
       "      <td>NaN</td>\n",
       "      <td>NaN</td>\n",
       "      <td>NaN</td>\n",
       "      <td>...</td>\n",
       "      <td>NaN</td>\n",
       "      <td>NaN</td>\n",
       "      <td>NaN</td>\n",
       "      <td>NaN</td>\n",
       "      <td>NaN</td>\n",
       "      <td>NaN</td>\n",
       "      <td>NaN</td>\n",
       "      <td>NaN</td>\n",
       "      <td>NaN</td>\n",
       "      <td>NaN</td>\n",
       "    </tr>\n",
       "    <tr>\n",
       "      <th>2</th>\n",
       "      <td>A. Jayanta Kumar Singh</td>\n",
       "      <td>NaN</td>\n",
       "      <td>NaN</td>\n",
       "      <td>NaN</td>\n",
       "      <td>NaN</td>\n",
       "      <td>NaN</td>\n",
       "      <td>NaN</td>\n",
       "      <td>NaN</td>\n",
       "      <td>NaN</td>\n",
       "      <td>NaN</td>\n",
       "      <td>...</td>\n",
       "      <td>NaN</td>\n",
       "      <td>NaN</td>\n",
       "      <td>NaN</td>\n",
       "      <td>NaN</td>\n",
       "      <td>NaN</td>\n",
       "      <td>NaN</td>\n",
       "      <td>NaN</td>\n",
       "      <td>NaN</td>\n",
       "      <td>NaN</td>\n",
       "      <td>NaN</td>\n",
       "    </tr>\n",
       "    <tr>\n",
       "      <th>3</th>\n",
       "      <td>A. K. Gupta</td>\n",
       "      <td>NaN</td>\n",
       "      <td>NaN</td>\n",
       "      <td>NaN</td>\n",
       "      <td>NaN</td>\n",
       "      <td>NaN</td>\n",
       "      <td>NaN</td>\n",
       "      <td>NaN</td>\n",
       "      <td>NaN</td>\n",
       "      <td>NaN</td>\n",
       "      <td>...</td>\n",
       "      <td>NaN</td>\n",
       "      <td>NaN</td>\n",
       "      <td>NaN</td>\n",
       "      <td>NaN</td>\n",
       "      <td>NaN</td>\n",
       "      <td>NaN</td>\n",
       "      <td>NaN</td>\n",
       "      <td>NaN</td>\n",
       "      <td>NaN</td>\n",
       "      <td>NaN</td>\n",
       "    </tr>\n",
       "    <tr>\n",
       "      <th>4</th>\n",
       "      <td>A. K. Hangal</td>\n",
       "      <td>Avtar Kishan Hangal (1 February 1914 – 26 Augu...</td>\n",
       "      <td>NaN</td>\n",
       "      <td>NaN</td>\n",
       "      <td>Born into a Kashmiri Pandit family, he spent h...</td>\n",
       "      <td>NaN</td>\n",
       "      <td>The government of India awarded him the Padma ...</td>\n",
       "      <td>Hangal participated in the Indian freedom move...</td>\n",
       "      <td>Hangal was admitted to the Asha Parekh Hospita...</td>\n",
       "      <td>''' Films '''\\n\\n\\n''' TV series '''</td>\n",
       "      <td>...</td>\n",
       "      <td>NaN</td>\n",
       "      <td>NaN</td>\n",
       "      <td>NaN</td>\n",
       "      <td>NaN</td>\n",
       "      <td>NaN</td>\n",
       "      <td>NaN</td>\n",
       "      <td>NaN</td>\n",
       "      <td>NaN</td>\n",
       "      <td>NaN</td>\n",
       "      <td>NaN</td>\n",
       "    </tr>\n",
       "  </tbody>\n",
       "</table>\n",
       "<p>5 rows × 366 columns</p>\n",
       "</div>"
      ],
      "text/plain": [
       "               Recipients                                            Summary  \\\n",
       "0                 A Zakia  A Zakia is a literati, a literary personality ...   \n",
       "1        A. G. K. Gokhale  Alla Gopala Krishna Gokhale MBBS, M.S. (Genera...   \n",
       "2  A. Jayanta Kumar Singh                                                NaN   \n",
       "3             A. K. Gupta                                                NaN   \n",
       "4            A. K. Hangal  Avtar Kishan Hangal (1 February 1914 – 26 Augu...   \n",
       "\n",
       "                                              career      references  \\\n",
       "0  After completing his education in 1952, he joi...             NaN   \n",
       "1                                                NaN  External links   \n",
       "2                                                NaN             NaN   \n",
       "3                                                NaN             NaN   \n",
       "4                                                NaN             NaN   \n",
       "\n",
       "                                          early life  \\\n",
       "0  A Zakia was born in Lorrain Ville, in the Saik...   \n",
       "1                                                NaN   \n",
       "2                                                NaN   \n",
       "3                                                NaN   \n",
       "4  Born into a Kashmiri Pandit family, he spent h...   \n",
       "\n",
       "                                                life  \\\n",
       "0                                                NaN   \n",
       "1  He is known for being the first to perform a s...   \n",
       "2                                                NaN   \n",
       "3                                                NaN   \n",
       "4                                                NaN   \n",
       "\n",
       "                                              awards  \\\n",
       "0                                                NaN   \n",
       "1                                                NaN   \n",
       "2                                                NaN   \n",
       "3                                                NaN   \n",
       "4  The government of India awarded him the Padma ...   \n",
       "\n",
       "                                     freedom fighter  \\\n",
       "0                                                NaN   \n",
       "1                                                NaN   \n",
       "2                                                NaN   \n",
       "3                                                NaN   \n",
       "4  Hangal participated in the Indian freedom move...   \n",
       "\n",
       "                                               death  \\\n",
       "0                                                NaN   \n",
       "1                                                NaN   \n",
       "2                                                NaN   \n",
       "3                                                NaN   \n",
       "4  Hangal was admitted to the Asha Parekh Hospita...   \n",
       "\n",
       "                            filmography  ... honour Telugu  \\\n",
       "0                                   NaN  ...           NaN   \n",
       "1                                   NaN  ...           NaN   \n",
       "2                                   NaN  ...           NaN   \n",
       "3                                   NaN  ...           NaN   \n",
       "4  ''' Films '''\\n\\n\\n''' TV series '''  ...           NaN   \n",
       "\n",
       "  filmography and accolades Telugu compositions Telugu commemoration Telugu  \\\n",
       "0                              NaN                 NaN                  NaN   \n",
       "1                              NaN                 NaN                  NaN   \n",
       "2                              NaN                 NaN                  NaN   \n",
       "3                              NaN                 NaN                  NaN   \n",
       "4                              NaN                 NaN                  NaN   \n",
       "\n",
       "  personal life and family Telugu footnotes Telugu  \\\n",
       "0                             NaN              NaN   \n",
       "1                             NaN              NaN   \n",
       "2                             NaN              NaN   \n",
       "3                             NaN              NaN   \n",
       "4                             NaN              NaN   \n",
       "\n",
       "  concert performances Telugu performance timelines Telugu authorship Telugu  \\\n",
       "0                         NaN                          NaN               NaN   \n",
       "1                         NaN                          NaN               NaN   \n",
       "2                         NaN                          NaN               NaN   \n",
       "3                         NaN                          NaN               NaN   \n",
       "4                         NaN                          NaN               NaN   \n",
       "\n",
       "  childhood Telugu  \n",
       "0              NaN  \n",
       "1              NaN  \n",
       "2              NaN  \n",
       "3              NaN  \n",
       "4              NaN  \n",
       "\n",
       "[5 rows x 366 columns]"
      ]
     },
     "execution_count": 14,
     "metadata": {},
     "output_type": "execute_result"
    }
   ],
   "source": [
    "awards.head(5)"
   ]
  },
  {
   "cell_type": "code",
   "execution_count": 15,
   "id": "a41dfe56",
   "metadata": {
    "execution": {
     "iopub.execute_input": "2022-04-30T15:43:51.108798Z",
     "iopub.status.busy": "2022-04-30T15:43:51.108544Z",
     "iopub.status.idle": "2022-04-30T15:43:51.113772Z",
     "shell.execute_reply": "2022-04-30T15:43:51.112687Z"
    },
    "papermill": {
     "duration": 0.727064,
     "end_time": "2022-04-30T15:43:51.117464",
     "exception": false,
     "start_time": "2022-04-30T15:43:50.390400",
     "status": "completed"
    },
    "tags": []
   },
   "outputs": [
    {
     "name": "stdout",
     "output_type": "stream",
     "text": [
      "$$$$$$$$$$$$$$$$$$$$$$$$$$$$$$$$$$$$$$$$$$$$$$$$$$  DONE  $$$$$$$$$$$$$$$$$$$$$$$$$$$$$$$$$$$$$$$$$$$$$$$$$$\n"
     ]
    }
   ],
   "source": [
    "print('$'*50 , ' DONE ','$'*50)"
   ]
  }
 ],
 "metadata": {
  "kernelspec": {
   "display_name": "Python 3",
   "language": "python",
   "name": "python3"
  },
  "language_info": {
   "codemirror_mode": {
    "name": "ipython",
    "version": 3
   },
   "file_extension": ".py",
   "mimetype": "text/x-python",
   "name": "python",
   "nbconvert_exporter": "python",
   "pygments_lexer": "ipython3",
   "version": "3.7.12"
  },
  "papermill": {
   "default_parameters": {},
   "duration": 492.674272,
   "end_time": "2022-04-30T15:43:55.286191",
   "environment_variables": {},
   "exception": null,
   "input_path": "__notebook__.ipynb",
   "output_path": "__notebook__.ipynb",
   "parameters": {},
   "start_time": "2022-04-30T15:35:42.611919",
   "version": "2.3.4"
  }
 },
 "nbformat": 4,
 "nbformat_minor": 5
}
