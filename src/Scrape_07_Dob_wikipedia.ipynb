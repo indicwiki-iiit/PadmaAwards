{
 "cells": [
  {
   "cell_type": "code",
   "execution_count": 1,
   "metadata": {},
   "outputs": [
    {
     "name": "stderr",
     "output_type": "stream",
     "text": [
      "C:\\Users\\LEGION\\anaconda3\\envs\\indicwiki\\lib\\site-packages\\tqdm\\auto.py:22: TqdmWarning: IProgress not found. Please update jupyter and ipywidgets. See https://ipywidgets.readthedocs.io/en/stable/user_install.html\n",
      "  from .autonotebook import tqdm as notebook_tqdm\n"
     ]
    }
   ],
   "source": [
    "import pandas as pd\n",
    "import numpy as np\n",
    "from tqdm import tqdm\n",
    "import wikipedia\n",
    "import requests\n",
    "from bs4 import BeautifulSoup \n",
    "# pd.set_option('display.max_rows', 500)\n",
    "# pd.set_option('display.max_columns', 500)\n",
    "# pd.set_option('display.width', 1000)\n",
    "import sweetviz as sv\n",
    "def out(ver,data,sw=False):\n",
    "    data.to_csv('renders/awards_v'+ver+'.csv')\n",
    "    data.to_pickle('renders/awards_v'+ver+'.pickle')\n",
    "    data.to_excel('renders/awards_v'+ver+'.xlsx')\n",
    "    if sw:\n",
    "        sv.analyze(data).show_html('renders/report_for_v'+ver+'.html')\n",
    "\n",
    "awards = pd.read_pickle('renders/renders_awards_v5_Kaggle_out.pickle')\n",
    "# awards.head(4)"
   ]
  },
  {
   "cell_type": "code",
   "execution_count": 13,
   "metadata": {},
   "outputs": [],
   "source": [
    "person = wikipedia.page(pageid='163038')"
   ]
  },
  {
   "cell_type": "code",
   "execution_count": 3,
   "metadata": {},
   "outputs": [
    {
     "data": {
      "text/plain": [
       "[['Khan in 2017', 'Khan in 2017'],\n",
       " ['Born', 'Mohammed Aamir Hussain Khan (age\\xa057)Bombay, Maharashtra, India'],\n",
       " ['Occupation',\n",
       "  'Actor film director film producer screenwriter talk-show host'],\n",
       " ['Works', 'Full list'],\n",
       " ['Spouse(s)',\n",
       "  'Reena Dutta \\u200b \\u200b(m.\\xa01986; div.\\xa02002)\\u200bKiran Rao \\u200b \\u200b(m.\\xa02005; div.\\xa02021)\\u200b'],\n",
       " ['Children', '3'],\n",
       " ['Parent(s)', 'Tahir Hussain (father)'],\n",
       " ['Relatives', 'See Khan–Hussain family'],\n",
       " ['Awards', 'Full list'],\n",
       " ['Honours',\n",
       "  'Padma Shri (2003)Padma Bhushan (2010) National Treasure of India, Government of China (2017)']]"
      ]
     },
     "execution_count": 3,
     "metadata": {},
     "output_type": "execute_result"
    }
   ],
   "source": [
    "def infobox_scraper(person):\n",
    "    # table_class=\"wikitable sortable jquery-tablesorter\"\n",
    "    soup = BeautifulSoup(person.html(), 'html.parser')\n",
    "    table=soup.find('table',{'class':\"infobox biography vcard\"})\n",
    "    df=pd.read_html(str(table))\n",
    "    df=pd.DataFrame(df[0]) \n",
    "    df=df.T\n",
    "    res=[]\n",
    "    for column in df.columns:\n",
    "        li = df[column].tolist()\n",
    "        res.append(li)\n",
    "    return res\n",
    "infobox_scraper(person)"
   ]
  },
  {
   "cell_type": "code",
   "execution_count": 24,
   "metadata": {},
   "outputs": [],
   "source": [
    "from bs4 import BeautifulSoup\n",
    "from lxml import etree\n",
    "\n",
    "def parser_maha():\n",
    "    soup = BeautifulSoup(person.html(), \"html.parser\")\n",
    "    # table1 = soup.find(\"table\",class_=\"table table-bordered\")\n",
    "    dom = etree.HTML(str(soup))\n",
    "    # key = []\n",
    "    xp_bo = '/html/body/div[1]/table/tbody/tr[3]/th'\n",
    "    xp_bd = '/html/body/div[1]/table/tbody/tr[3]/td/span[1]/span'\n",
    "    dom.xpath(xp_bd)[0].text\n",
    "    return dom.xpath(xp_bd)[0].text\n",
    "\n",
    "def parser_maha_2(person,name):\n",
    "    tables = pd.read_html(person.html())\n",
    "    inf = tables[0]\n",
    "    print(inf)\n",
    "    inf.set_index(name,inplace=True)\n",
    "    inf = inf.transpose()\n",
    "    return inf\n",
    "\n",
    "# p = pd.DataFrame()\n",
    "# p = pd.concat([p,parser_maha_2()] )\n"
   ]
  },
  {
   "cell_type": "code",
   "execution_count": 25,
   "metadata": {},
   "outputs": [
    {
     "name": "stderr",
     "output_type": "stream",
     "text": [
      "  0%|          | 0/10 [00:00<?, ?it/s]"
     ]
    },
    {
     "name": "stdout",
     "output_type": "stream",
     "text": [
      "  .mw-parser-output .navbar{display:inline;font-size:88%;font-weight:normal}.mw-parser-output .navbar-collapse{float:left;text-align:left}.mw-parser-output .navbar-boxtext{word-spacing:0}.mw-parser-output .navbar ul{display:inline-block;white-space:nowrap;line-height:inherit}.mw-parser-output .navbar-brackets::before{margin-right:-0.125em;content:\"[ \"}.mw-parser-output .navbar-brackets::after{margin-left:-0.125em;content:\" ]\"}.mw-parser-output .navbar li{word-spacing:-0.125em}.mw-parser-output .navbar a>span,.mw-parser-output .navbar a>abbr{text-decoration:inherit}.mw-parser-output .navbar-mini abbr{font-variant:small-caps;border-bottom:none;text-decoration:none;cursor:inherit}.mw-parser-output .navbar-ct-full{font-size:114%;margin:0 7em}.mw-parser-output .navbar-ct-mini{font-size:114%;margin:0 4em}vteRecipients of Padma Shri in Literature & Education  \\\n",
      "0                                              1950s                                                                                                                                                                                                                                                                                                                                                                                                                                                                                                                                                                                                                                                                                                                                                                                                                                              \n",
      "1                                              1960s                                                                                                                                                                                                                                                                                                                                                                                                                                                                                                                                                                                                                                                                                                                                                                                                                                              \n",
      "2                                              1970s                                                                                                                                                                                                                                                                                                                                                                                                                                                                                                                                                                                                                                                                                                                                                                                                                                              \n",
      "3                                              1980s                                                                                                                                                                                                                                                                                                                                                                                                                                                                                                                                                                                                                                                                                                                                                                                                                                              \n",
      "4                                              1990s                                                                                                                                                                                                                                                                                                                                                                                                                                                                                                                                                                                                                                                                                                                                                                                                                                              \n",
      "5                                              2000s                                                                                                                                                                                                                                                                                                                                                                                                                                                                                                                                                                                                                                                                                                                                                                                                                                              \n",
      "6                                              2010s                                                                                                                                                                                                                                                                                                                                                                                                                                                                                                                                                                                                                                                                                                                                                                                                                                              \n",
      "7                                              2020s                                                                                                                                                                                                                                                                                                                                                                                                                                                                                                                                                                                                                                                                                                                                                                                                                                              \n",
      "\n",
      "  .mw-parser-output .navbar{display:inline;font-size:88%;font-weight:normal}.mw-parser-output .navbar-collapse{float:left;text-align:left}.mw-parser-output .navbar-boxtext{word-spacing:0}.mw-parser-output .navbar ul{display:inline-block;white-space:nowrap;line-height:inherit}.mw-parser-output .navbar-brackets::before{margin-right:-0.125em;content:\"[ \"}.mw-parser-output .navbar-brackets::after{margin-left:-0.125em;content:\" ]\"}.mw-parser-output .navbar li{word-spacing:-0.125em}.mw-parser-output .navbar a>span,.mw-parser-output .navbar a>abbr{text-decoration:inherit}.mw-parser-output .navbar-mini abbr{font-variant:small-caps;border-bottom:none;text-decoration:none;cursor:inherit}.mw-parser-output .navbar-ct-full{font-size:114%;margin:0 7em}.mw-parser-output .navbar-ct-mini{font-size:114%;margin:0 4em}vteRecipients of Padma Shri in Literature & Education.1  \n",
      "0  K. Shankar Pillai (1954) Krishna Kanta Handiqu...                                                                                                                                                                                                                                                                                                                                                                                                                                                                                                                                                                                                                                                                                                                                                                                                                                               \n",
      "1  B. S. Kesavan (1960) Artaballabha Mohanty (196...                                                                                                                                                                                                                                                                                                                                                                                                                                                                                                                                                                                                                                                                                                                                                                                                                                               \n",
      "2                        Ananda Chandra Barua (1970)                                                                                                                                                                                                                                                                                                                                                                                                                                                                                                                                                                                                                                                                                                                                                                                                                                               \n",
      "3  Krishan Dutta Bharadwaj (1981) Abid Ali Khan (...                                                                                                                                                                                                                                                                                                                                                                                                                                                                                                                                                                                                                                                                                                                                                                                                                                               \n",
      "4  M. Aram (1990) Vijay Kumar Chopra (1990) Behra...                                                                                                                                                                                                                                                                                                                                                                                                                                                                                                                                                                                                                                                                                                                                                                                                                                               \n",
      "5  Grigoriy Lvovitch Bondarevsky (2000) P. S. Cha...                                                                                                                                                                                                                                                                                                                                                                                                                                                                                                                                                                                                                                                                                                                                                                                                                                               \n",
      "6  Lalzuia Colney (2010) Maria Aurora Couto (2010...                                                                                                                                                                                                                                                                                                                                                                                                                                                                                                                                                                                                                                                                                                                                                                                                                                               \n",
      "7  Abhiraj Rajendra Mishra (2020) Binapani Mohant...                                                                                                                                                                                                                                                                                                                                                                                                                                                                                                                                                                                                                                                                                                                                                                                                                                               \n",
      "\"None of ['A Zakia'] are in the columns\"\n"
     ]
    },
    {
     "name": "stderr",
     "output_type": "stream",
     "text": [
      " 10%|█         | 1/10 [00:05<00:45,  5.01s/it]"
     ]
    },
    {
     "name": "stdout",
     "output_type": "stream",
     "text": [
      "    0                                                  1\n",
      "0 NaN  This biography of a living person needs additi...\n",
      "\"None of ['A. G. K. Gokhale'] are in the columns\"\n"
     ]
    },
    {
     "name": "stderr",
     "output_type": "stream",
     "text": [
      " 20%|██        | 2/10 [00:10<00:44,  5.54s/it]"
     ]
    },
    {
     "name": "stdout",
     "output_type": "stream",
     "text": [
      "    0                                                  1\n",
      "0 NaN  This article needs additional citations for ve...\n",
      "\"None of ['A. K. Hangal'] are in the columns\"\n"
     ]
    },
    {
     "name": "stderr",
     "output_type": "stream",
     "text": [
      " 60%|██████    | 6/10 [00:23<00:15,  3.93s/it]"
     ]
    },
    {
     "name": "stdout",
     "output_type": "stream",
     "text": [
      "  A. K. Ramanujan                                  A. K. Ramanujan.1\n",
      "0             NaN                                                NaN\n",
      "1            Born    Mysore, Princely State of Mysore, British India\n",
      "2            Died                 13 July 1993Chicago, United States\n",
      "3        Language                        English, Tamil and Kannada,\n",
      "4     Nationality                                             Indian\n",
      "5       Education                                PhD. in Linguistics\n",
      "6      Alma mater  Indiana University University of Mysore Deccan...\n",
      "7   Notable works                         The Striders; Second Sight\n",
      "8  Notable awards  MacArthur Fellowship, Sahitya Akademi Award an...\n"
     ]
    },
    {
     "name": "stderr",
     "output_type": "stream",
     "text": [
      " 70%|███████   | 7/10 [00:25<00:10,  3.46s/it]"
     ]
    },
    {
     "name": "stdout",
     "output_type": "stream",
     "text": [
      "  SirSir A. Lakshmanaswami Mudaliar      SirSir A. Lakshmanaswami Mudaliar.1\n",
      "0                              Born                          14 October 1887\n",
      "1                              Died  15 April 1974 (aged 86)[1]Madras, India\n",
      "2                       Nationality                                   Indian\n",
      "3                        Alma mater                 Madras Christian College\n",
      "4                         Relatives    Sir Arcot Ramasamy Mudaliar (brother)\n",
      "5                            Awards           Padma Bhushan, Padma Vibhushan\n",
      "\"None of ['A. Lakshmanaswami Mudaliar'] are in the columns\"\n"
     ]
    },
    {
     "name": "stderr",
     "output_type": "stream",
     "text": [
      " 90%|█████████ | 9/10 [00:34<00:03,  3.98s/it]"
     ]
    },
    {
     "name": "stdout",
     "output_type": "stream",
     "text": [
      "   A. M. Naik                                A. M. Naik.1\n",
      "0         NaN                                         NaN\n",
      "1        Born   Anil Manibhai Naik (age 79)Gujarat, India\n",
      "2   Education              B. E. (Mechanical Engineering)\n",
      "3  Occupation           Group Chairman of Larsen & Toubro\n",
      "4    Employer                             Larsen & Toubro\n",
      "5   Spouse(s)                                  Geeta Naik\n",
      "6    Children                                           2\n",
      "7      Awards  Padma Vibhushan (2019)Padma Bhushan (2009)\n"
     ]
    },
    {
     "name": "stderr",
     "output_type": "stream",
     "text": [
      "100%|██████████| 10/10 [00:38<00:00,  3.90s/it]"
     ]
    },
    {
     "name": "stdout",
     "output_type": "stream",
     "text": [
      "  A. Marthanda Pillai       A. Marthanda Pillai.1\n",
      "0      Medical career              Medical career\n",
      "1          Profession                Neurosurgeon\n",
      "2              Awards  2010-2011 Padma Shri Award\n"
     ]
    },
    {
     "name": "stderr",
     "output_type": "stream",
     "text": [
      "\n"
     ]
    },
    {
     "data": {
      "text/html": [
       "<div>\n",
       "<style scoped>\n",
       "    .dataframe tbody tr th:only-of-type {\n",
       "        vertical-align: middle;\n",
       "    }\n",
       "\n",
       "    .dataframe tbody tr th {\n",
       "        vertical-align: top;\n",
       "    }\n",
       "\n",
       "    .dataframe thead th {\n",
       "        text-align: right;\n",
       "    }\n",
       "</style>\n",
       "<table border=\"1\" class=\"dataframe\">\n",
       "  <thead>\n",
       "    <tr style=\"text-align: right;\">\n",
       "      <th></th>\n",
       "      <th>NaN</th>\n",
       "      <th>Born</th>\n",
       "      <th>Died</th>\n",
       "      <th>Language</th>\n",
       "      <th>Nationality</th>\n",
       "      <th>Education</th>\n",
       "      <th>Alma mater</th>\n",
       "      <th>Notable works</th>\n",
       "      <th>Notable awards</th>\n",
       "      <th>Occupation</th>\n",
       "      <th>Employer</th>\n",
       "      <th>Spouse(s)</th>\n",
       "      <th>Children</th>\n",
       "      <th>Awards</th>\n",
       "      <th>Medical career</th>\n",
       "      <th>Profession</th>\n",
       "    </tr>\n",
       "  </thead>\n",
       "  <tbody>\n",
       "    <tr>\n",
       "      <th>A. K. Ramanujan.1</th>\n",
       "      <td>NaN</td>\n",
       "      <td>Mysore, Princely State of Mysore, British India</td>\n",
       "      <td>13 July 1993Chicago, United States</td>\n",
       "      <td>English, Tamil and Kannada,</td>\n",
       "      <td>Indian</td>\n",
       "      <td>PhD. in Linguistics</td>\n",
       "      <td>Indiana University University of Mysore Deccan...</td>\n",
       "      <td>The Striders; Second Sight</td>\n",
       "      <td>MacArthur Fellowship, Sahitya Akademi Award an...</td>\n",
       "      <td>NaN</td>\n",
       "      <td>NaN</td>\n",
       "      <td>NaN</td>\n",
       "      <td>NaN</td>\n",
       "      <td>NaN</td>\n",
       "      <td>NaN</td>\n",
       "      <td>NaN</td>\n",
       "    </tr>\n",
       "    <tr>\n",
       "      <th>A. M. Naik.1</th>\n",
       "      <td>NaN</td>\n",
       "      <td>Anil Manibhai Naik (age 79)Gujarat, India</td>\n",
       "      <td>NaN</td>\n",
       "      <td>NaN</td>\n",
       "      <td>NaN</td>\n",
       "      <td>B. E. (Mechanical Engineering)</td>\n",
       "      <td>NaN</td>\n",
       "      <td>NaN</td>\n",
       "      <td>NaN</td>\n",
       "      <td>Group Chairman of Larsen &amp; Toubro</td>\n",
       "      <td>Larsen &amp; Toubro</td>\n",
       "      <td>Geeta Naik</td>\n",
       "      <td>2</td>\n",
       "      <td>Padma Vibhushan (2019)Padma Bhushan (2009)</td>\n",
       "      <td>NaN</td>\n",
       "      <td>NaN</td>\n",
       "    </tr>\n",
       "    <tr>\n",
       "      <th>A. Marthanda Pillai.1</th>\n",
       "      <td>NaN</td>\n",
       "      <td>NaN</td>\n",
       "      <td>NaN</td>\n",
       "      <td>NaN</td>\n",
       "      <td>NaN</td>\n",
       "      <td>NaN</td>\n",
       "      <td>NaN</td>\n",
       "      <td>NaN</td>\n",
       "      <td>NaN</td>\n",
       "      <td>NaN</td>\n",
       "      <td>NaN</td>\n",
       "      <td>NaN</td>\n",
       "      <td>NaN</td>\n",
       "      <td>2010-2011 Padma Shri Award</td>\n",
       "      <td>Medical career</td>\n",
       "      <td>Neurosurgeon</td>\n",
       "    </tr>\n",
       "  </tbody>\n",
       "</table>\n",
       "</div>"
      ],
      "text/plain": [
       "                       NaN                                             Born  \\\n",
       "A. K. Ramanujan.1      NaN  Mysore, Princely State of Mysore, British India   \n",
       "A. M. Naik.1           NaN        Anil Manibhai Naik (age 79)Gujarat, India   \n",
       "A. Marthanda Pillai.1  NaN                                              NaN   \n",
       "\n",
       "                                                     Died  \\\n",
       "A. K. Ramanujan.1      13 July 1993Chicago, United States   \n",
       "A. M. Naik.1                                          NaN   \n",
       "A. Marthanda Pillai.1                                 NaN   \n",
       "\n",
       "                                          Language Nationality  \\\n",
       "A. K. Ramanujan.1      English, Tamil and Kannada,      Indian   \n",
       "A. M. Naik.1                                   NaN         NaN   \n",
       "A. Marthanda Pillai.1                          NaN         NaN   \n",
       "\n",
       "                                            Education  \\\n",
       "A. K. Ramanujan.1                 PhD. in Linguistics   \n",
       "A. M. Naik.1           B. E. (Mechanical Engineering)   \n",
       "A. Marthanda Pillai.1                             NaN   \n",
       "\n",
       "                                                              Alma mater  \\\n",
       "A. K. Ramanujan.1      Indiana University University of Mysore Deccan...   \n",
       "A. M. Naik.1                                                         NaN   \n",
       "A. Marthanda Pillai.1                                                NaN   \n",
       "\n",
       "                                    Notable works  \\\n",
       "A. K. Ramanujan.1      The Striders; Second Sight   \n",
       "A. M. Naik.1                                  NaN   \n",
       "A. Marthanda Pillai.1                         NaN   \n",
       "\n",
       "                                                          Notable awards  \\\n",
       "A. K. Ramanujan.1      MacArthur Fellowship, Sahitya Akademi Award an...   \n",
       "A. M. Naik.1                                                         NaN   \n",
       "A. Marthanda Pillai.1                                                NaN   \n",
       "\n",
       "                                              Occupation         Employer  \\\n",
       "A. K. Ramanujan.1                                    NaN              NaN   \n",
       "A. M. Naik.1           Group Chairman of Larsen & Toubro  Larsen & Toubro   \n",
       "A. Marthanda Pillai.1                                NaN              NaN   \n",
       "\n",
       "                        Spouse(s) Children  \\\n",
       "A. K. Ramanujan.1             NaN      NaN   \n",
       "A. M. Naik.1           Geeta Naik        2   \n",
       "A. Marthanda Pillai.1         NaN      NaN   \n",
       "\n",
       "                                                           Awards  \\\n",
       "A. K. Ramanujan.1                                             NaN   \n",
       "A. M. Naik.1           Padma Vibhushan (2019)Padma Bhushan (2009)   \n",
       "A. Marthanda Pillai.1                  2010-2011 Padma Shri Award   \n",
       "\n",
       "                       Medical career    Profession  \n",
       "A. K. Ramanujan.1                 NaN           NaN  \n",
       "A. M. Naik.1                      NaN           NaN  \n",
       "A. Marthanda Pillai.1  Medical career  Neurosurgeon  "
      ]
     },
     "execution_count": 25,
     "metadata": {},
     "output_type": "execute_result"
    }
   ],
   "source": [
    "# awards['dob'] = np.nan\n",
    "# awards.reset_index(inplace=True)\n",
    "# for i in tqdm(range(awards.shape[0])):\n",
    "p = pd.DataFrame()\n",
    "for i in tqdm(range(10)):\n",
    "    per_name = awards['Recipients'][i]\n",
    "    if not pd.isna(awards['WikiLink'][i]):\n",
    "        try:\n",
    "            person = wikipedia.page(per_name)\n",
    "            if awards['WikiLink'][i] == person.url:\n",
    "                # awards['Ref'][i] = ';'.join(person.references)\n",
    "                p2 = parser_maha_2(person,per_name)\n",
    "                # print(p2)\n",
    "                p = pd.concat([p,p2] )\n",
    "                pass\n",
    "            else:\n",
    "                person = wikipedia.page(pageid= str(int(awards['Page Id'][i])))\n",
    "                if awards['WikiLink'][i] == person.url:\n",
    "                    # awards['Ref'][i] = ';'.join(person.references)\n",
    "                    pass\n",
    "        except Exception as e:\n",
    "            print(e)\n",
    "            try:\n",
    "                person = wikipedia.page(pageid= str(int(awards['Page Id'][i])))\n",
    "                if awards['WikiLink'][i] == person.url:\n",
    "                    # awards['Ref'][i] = ';'.join(person.references)\n",
    "                    pass\n",
    "            except Exception as e:\n",
    "                print(e)\n",
    "                # awards['dob'][i] = np.nan \n",
    "p\n"
   ]
  },
  {
   "cell_type": "code",
   "execution_count": null,
   "metadata": {},
   "outputs": [],
   "source": []
  }
 ],
 "metadata": {
  "interpreter": {
   "hash": "42d6ad2300f95fe0c7f6a60c12c48647e2bcd2586845f44744679f29e9c833c5"
  },
  "kernelspec": {
   "display_name": "AkWiki",
   "language": "python",
   "name": "indicwiki"
  },
  "language_info": {
   "codemirror_mode": {
    "name": "ipython",
    "version": 3
   },
   "file_extension": ".py",
   "mimetype": "text/x-python",
   "name": "python",
   "nbconvert_exporter": "python",
   "pygments_lexer": "ipython3",
   "version": "3.9.12"
  },
  "orig_nbformat": 4
 },
 "nbformat": 4,
 "nbformat_minor": 2
}
